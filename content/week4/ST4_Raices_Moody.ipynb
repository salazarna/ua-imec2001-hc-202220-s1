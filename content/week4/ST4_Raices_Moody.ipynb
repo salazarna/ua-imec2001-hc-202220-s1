{
 "cells": [
  {
   "cell_type": "markdown",
   "id": "2227eb2f",
   "metadata": {},
   "source": [
    "Estudiante 1: \n",
    "\n",
    "Estudiante 2:"
   ]
  },
  {
   "cell_type": "markdown",
   "id": "6f8b5175",
   "metadata": {},
   "source": [
    "# IMEC2001 Herramientas Computacionales \n",
    "## Taller Semana 4: Raíces de Ecuaciones - Ecuación de Colebrook White\n",
    "### Fecha Límite Entrega (Bloque Neón): <font color=\"#FF5733\">15:29h de Noviembre 10, 2022</font>\n",
    "\n",
    "Universidad de los Andes — Noviembre 3, 2022.\n",
    "___\n",
    "### <u>Tener en Cuenta</u>\n",
    "- La entrega del taller es por Bloque Neon y el formato de envío es Jupyter Notebook (extensión '.ipynb').\n",
    "- El nombre del archivo debe ser el nombre de los dos integrantes de grupo de la siguiente forma **T4_Apellido integrante 1_Apellidos integrante 2** Ej: T3_SalazarPeña_VargasTorres\n",
    "- En la casilla anterior a esta coloque el nombre de los integrantes del grupo.\n",
    "- El taller solo lo envía <b>1</b> integrante del grupo.\n",
    "___\n",
    "\n",
    "\n",
    "# Semana 4: Solución de Ecuaciones no Lineales\n",
    "\n",
    "Esta semana se van a mostrar diferentes casos de soluciones de ecuaciones no lineales. En problemas de ingeniería, es importante conocer las diferentes herramientas que permiten solucionar ecuaciones que en el papel, pueden ser complejas o incluso imposibles de solucionar. \n",
    "\n",
    "En algunos casos las ecuaciones que se manejan no son lineales[Tienen exponentes, raices, entre otros], un ejemplo de lo anterior es un polinomio.\n",
    "\n",
    "$$f(x)=ax^2+bx+c$$\n",
    "\n",
    "$$x = \\frac{-b+-\\sqrt{b^2-4ac}}{2a}$$\n",
    "\n",
    "Para solucionarla por lo general se utiliza la ecuación cuadrática, en esta se buscan las <b>raices</b> de la ecuación, esto es qué valores de x hacen que la ecuación sea igual a 0. Para el caso anterior, es posible calcular su valor con un lápiz y un papel, pero para ecuaciones como $ \\sin^2{(x - 3)} = \\cos{(2x)}$ se tendría que saber los valores de $sin$ y $cos$ para resolverla. \n",
    "\n",
    "Algunos de los métodos que se utilizan para solucionar este problema son:\n",
    "\n",
    "<b>1. Método gráfico</b>\n",
    "\n",
    "<b>2. Métodos Cerrados: </b>Se seleccionan límites en donde se sabe que se encuentra la raíz, siempre obtiene la raíz. \n",
    "\n",
    "    * Bisección\n",
    "    * Falsa Posición\n",
    "<b>3. Métodos Abiertos:</b> Pueden requerir más valores para la búsqueda, y el intervalo elegido no necesariamente contiene la raíz, por lo cual no siempre convergen.  \n",
    "\n",
    "    * Iteración simple\n",
    "    * Newton - Raphson\n",
    "    * Secante\n",
    "\n",
    "## <u>Método de bisección</u>\n",
    "\n",
    "Este método necesita dos parámetros $x_l$ y $x_u$ siendo estos los límites inferior y superior respectivamente. Como se mencionó anteriormente se necesita saber el intervalo en donde se encuentra la solución. El algoritmo de solución el siguiente: \n",
    "\n",
    "1. Se seleccionan los límites [$x_l$ y $x_u$]\n",
    "2. Se calcula un valor promedio entre los dos intervalos \n",
    "$$x_r = \\frac{x_u + x_l}{2}$$\n",
    "\n",
    "3. Se determina un nuevo intervalo de busqueda: Este paso depende de $x_r$, $x_u$ y $x_l$. Ya que se mira el <b>signo</b> de cada una de estas variables. Como se muestra en la siguiente figura lo que se quiere es acercarse al eje x para así encontrar la raíz.\n",
    "<figure>\n",
    "<img src='./img/ejemplificacion_biseccion.jpg' width=\"400\" height=\"500\">\n",
    "<figcaption><center> <k>Ramírez R, F. (2022). 4. Raíces de ecuaciones. Modelación y Análisis Numérico ICYA 2001</k></center></figcaption>\n",
    "</figure>\n",
    "\n",
    "El error que se calcula entre las iteraciones está dado por:\n",
    "\n",
    "$$\\varepsilon_a = \\frac{x_{i+1}-x_i}{x_{i+1}}$$\n",
    "\n",
    "Dependiendo del resultado de la multiplicación entre $f(x_u)$ y $f(x_r)$ y $f(x_l)$ y $f(x_r)$ se seleccionan nuevos límites y se vuelve a repetir el proceso, esto con el fin de acercarse al punto de la raíz. \n",
    "\n",
    "<div class=\"alert alert-block alert-warning\">    \n",
    "Responda las siguientes preguntas:\n",
    "    \n",
    "1. ¿Qué pasa si se multiplica $f(x_u)$ y $f(x_r)$ para la imágen de la izquierda?\n",
    "2. ¿Qué pasa si se multiplica $f(x_l)$ y $f(x_r)$ para la imágen de la derecha?\n",
    "</div>"
   ]
  },
  {
   "cell_type": "markdown",
   "id": "adcb7d2e",
   "metadata": {},
   "source": [
    "Respuestas:\n",
    "1. Su producto es negativo por lo cual se identifica que cambia el intervalo de búsqueda\n",
    "2. Su producto es negativo por lo cual se identifica que cambia el intervalo de búsqueda"
   ]
  },
  {
   "cell_type": "markdown",
   "id": "e686c60c",
   "metadata": {},
   "source": []
  },
  {
   "cell_type": "markdown",
   "id": "e8d6747f",
   "metadata": {},
   "source": [
    "\n",
    "\n"
   ]
  },
  {
   "cell_type": "code",
   "execution_count": 1,
   "id": "adff4e36",
   "metadata": {},
   "outputs": [
    {
     "data": {
      "text/plain": [
       "'La solución es: 0.5668366476893425'"
      ]
     },
     "execution_count": 1,
     "metadata": {},
     "output_type": "execute_result"
    }
   ],
   "source": [
    "# Implementación método de bisección \n",
    "\n",
    "import math\n",
    "\n",
    "x_l = 0               # Límite inferior\n",
    "x_u = 1               # Límite superior \n",
    "n = 100               # Número de iteraciones\n",
    "tol = 10**-8          # Tolerancia \n",
    "\n",
    "def f(x: float) -> float:\n",
    "    \"\"\"\n",
    "    Evaluación de x en la función\n",
    "\n",
    "    Parameters\n",
    "    ----------\n",
    "    x : float\n",
    "        Valor que se evalúa.\n",
    "\n",
    "    Returns\n",
    "    -------\n",
    "    float\n",
    "        Resultado de la operación\n",
    "\n",
    "    \"\"\"\n",
    "    return math.sin(x-3)**2 - math.cos(2*x)\n",
    "\n",
    "# Bono: ¿Qué hace el término de tolerancia y cómo se relaciona con el error?  \n",
    "# RTA: Es el valor mínimo que uno está dispuesto a aceptar\n",
    "\n",
    "def biseccion(x_l: float, x_u: float, n: float= 100, tol : float= 10**-8) -> float:\n",
    "    \"\"\"\n",
    "    Función que implementa el método de bisección \n",
    "    \n",
    "    Parameters\n",
    "    ----------\n",
    "    x_l : float\n",
    "        Límite inferior.\n",
    "    x_u : float\n",
    "         Límite superior.\n",
    "    n : float, optional\n",
    "        Número de iteraciones. The default is 100.\n",
    "    tol : float, optional\n",
    "        Tolerancia. The default is 10**-8.\n",
    "\n",
    "    Returns\n",
    "    -------\n",
    "    float\n",
    "        Aproximación a la raíz de la ecuación.\n",
    "\n",
    "    \"\"\"\n",
    "    if f(x_l)*f(x_u)<0:\n",
    "        for i in range(n):\n",
    "            x_r = (x_l + x_u)/2\n",
    "            if f(x_l) * f(x_r) < 0:\n",
    "                x_u = x_r\n",
    "            else: \n",
    "                x_l = x_r\n",
    "            xrp1 = (x_l + x_u) / 2\n",
    "            error = abs((xrp1-x_r)/xrp1)\n",
    "            if error<tol:\n",
    "                break\n",
    "        return x_r\n",
    "    \n",
    "\"La solución es: \" + format(biseccion(x_l, x_u, n, tol))"
   ]
  },
  {
   "cell_type": "markdown",
   "id": "c636605a",
   "metadata": {},
   "source": [
    "Con la solución generada, ahora se mira el método gráfico, la herramienta utilizada para generar la gráfica fue [desmos](https://www.desmos.com/calculator?lang=es).\n",
    "\n",
    "<img src='./img/Raiz_Desmos.jpg' width=\"400\" height=\"500\">"
   ]
  },
  {
   "cell_type": "markdown",
   "id": "7cf81cc9",
   "metadata": {},
   "source": [
    "## <u>Encontrar raices con la librería `SciPy.optimize.root_scalar`</u>\n",
    "\n",
    "<div class=\"alert alert-block alert-info\">\n",
    "    \n",
    "<i class=\"fa fa-info-circle\" aria-hidden=\"true\"></i>\n",
    "Puede obtener más información en la documentación oficial de la librería dando clic aquí [`SciPy`](https://docs.scipy.org/doc/scipy/reference/interpolate.html) \n",
    "</div>\n",
    "\n",
    "\n",
    "Ya conociendo un poco la lógica de los métodos que encuentran las raices dadas una función, se pasa a utilizar las librerías que ofrece python realizando así las operaciones de forma más rápida y en este variar entre métodos cambiando solo un parámetro denntro de las funcion. Para los efectos de este taller se utilizarán los siguientes [`métodos`](https://docs.scipy.org/doc/scipy/reference/generated/scipy.optimize.root_scalar.html#scipy.optimize.root_scalar):\n",
    "\n",
    "- Método de bisección [``bisect``]\n",
    "    - Parámetros: función, límites, método\n",
    "- Método de Newton [``newton``]\n",
    "    - Parámetros: función, valor inicial, derivada de la función, método\n",
    "- Método de Secante [``secant``]\n",
    "\n",
    "\n",
    "## Importar librerías:\n",
    "\n",
    "Para importar la librería se utiliza la siguiente línea de código:\n",
    "\n",
    "* ``from scipy import optimize as opt``\n",
    "\n",
    "<div class=\"alert alert-block alert-warning\">\n",
    "En este caso el <i> alias </i> es opt, pero lo puede cambiar por uno diferente sin que sea int, ya que este es un tipo de dato de python.\n",
    "</div>"
   ]
  },
  {
   "cell_type": "code",
   "execution_count": 2,
   "id": "937fadce",
   "metadata": {},
   "outputs": [
    {
     "data": {
      "text/plain": [
       "      converged: True\n",
       "           flag: 'converged'\n",
       " function_calls: 41\n",
       "     iterations: 39\n",
       "           root: 0.5668366475638322"
      ]
     },
     "execution_count": 2,
     "metadata": {},
     "output_type": "execute_result"
    }
   ],
   "source": [
    "from scipy import optimize as opt\n",
    "from sympy import *\n",
    "\n",
    "# ======================= Método bisección ======================= #\n",
    "\n",
    "# Función f que se definió anteriormente\n",
    "sol = opt.root_scalar(f, bracket=[0, 1], method = 'bisect')\n",
    "sol"
   ]
  },
  {
   "cell_type": "code",
   "execution_count": 3,
   "id": "f5a279e0",
   "metadata": {},
   "outputs": [
    {
     "name": "stdout",
     "output_type": "stream",
     "text": [
      "¿La solución convergió? True\n",
      "Número de iteraciones: 39\n",
      "Resultado raíz: 0.5668366475638322\n"
     ]
    }
   ],
   "source": [
    "# Para obtener datos espeficicos se utiliza lo siguiente\n",
    "\n",
    "print(\"¿La solución convergió? {}\".format(sol.converged))\n",
    "print(\"Número de iteraciones: {}\".format(sol.iterations))\n",
    "print(\"Resultado raíz: {}\".format(sol.root))"
   ]
  },
  {
   "cell_type": "markdown",
   "id": "07defb85",
   "metadata": {},
   "source": [
    "## Método de Newton\n",
    "----\n",
    "\n",
    "Este método toma la derivada de la función que se quiere evaluar y con esta se calcula el siguiente punto. \n",
    "\n",
    "$$x_{i+1}=x_i-\\frac{f(x_i)}{f'(x_i)}$$\n",
    "\n",
    "Sin embargo, en casos como los siguientes el método no puede converger o llegar a una solución:\n",
    "- Punto de inflexión cerca de la raíz\n",
    "- Cuando hay saltos hacia otra raíz\n",
    "- Cuándo la derivada es igual a 0\n",
    "- Cuando hay oscilaciones al rededor de un óptimo\n",
    "\n",
    "Para utilizarlo, se debe poder conocer su derivada y se recomienda graficarlo antes ya que no garantiza que se encuentre una raíz. Para su implementación se utilizará en el parámetro ``method = 'newton'``"
   ]
  },
  {
   "cell_type": "code",
   "execution_count": 4,
   "id": "95f11c79",
   "metadata": {
    "scrolled": true
   },
   "outputs": [
    {
     "data": {
      "image/png": "[encoded data removed]",
      "text/plain": [
       "<Figure size 432x288 with 1 Axes>"
      ]
     },
     "metadata": {
      "needs_background": "light"
     },
     "output_type": "display_data"
    }
   ],
   "source": [
    "from sympy import *\n",
    "import matplotlib.pyplot as plt\n",
    "import numpy as np\n",
    "\n",
    "# ======================= Método Newton ======================= #\n",
    "\n",
    "# Se expresa como variables simbólicas [Muy utilizado en matlab]\n",
    "x = Symbol('x')\n",
    "f_n = 3*x**2-x\n",
    "diff_f = f_n.diff(x)\n",
    "\n",
    "# Se pasa a un formato en donde se pueda operar x\n",
    "f_n = lambdify(x, f_n)\n",
    "diff_f = lambdify(x, diff_f)\n",
    "\n",
    "# Gráfica\n",
    "x = np.linspace(-0.3, 0.6, 100)\n",
    "y = f_n(x)\n",
    "\n",
    "plt.plot(x, y)\n",
    "plt.title(r'$3x^2-x$')\n",
    "plt.tick_params(direction='out', length=5, width=0.75, grid_alpha=0.3)\n",
    "plt.xticks(rotation=0)\n",
    "plt.minorticks_on()\n",
    "plt.ylim(None, None)\n",
    "plt.xlim(None, None)\n",
    "plt.grid(True)\n",
    "plt.grid(visible=True, which='major', color='grey', linestyle='-')\n",
    "plt.grid(visible=True, which='minor', color='lightgrey', linestyle='-', alpha=0.2)\n",
    "plt.show()"
   ]
  },
  {
   "cell_type": "markdown",
   "id": "4dfa2fb9",
   "metadata": {},
   "source": [
    "La función $3x^2-x$ tienen dos raices, el método de Newton necesita un valor inicial por parámetro tanto en su implementación desde 0 como con la librería, note que en el siguiente código este puede dar una raíz o la otra dependiendo del $x_0$ que se utilice."
   ]
  },
  {
   "cell_type": "code",
   "execution_count": 5,
   "id": "2da6b4c0",
   "metadata": {
    "scrolled": true
   },
   "outputs": [
    {
     "data": {
      "text/plain": [
       "      converged: True\n",
       "           flag: 'converged'\n",
       " function_calls: 22\n",
       "     iterations: 11\n",
       "           root: 0.5668366464036539"
      ]
     },
     "execution_count": 5,
     "metadata": {},
     "output_type": "execute_result"
    }
   ],
   "source": [
    "sol_2 = opt.root_scalar(f, x0 = 0.4, fprime = diff_f,  method='newton')\n",
    "sol_2"
   ]
  },
  {
   "cell_type": "code",
   "execution_count": 6,
   "id": "1b5c80b3",
   "metadata": {
    "scrolled": true
   },
   "outputs": [
    {
     "data": {
      "text/plain": [
       "      converged: True\n",
       "           flag: 'converged'\n",
       " function_calls: 62\n",
       "     iterations: 31\n",
       "           root: -0.6609495080166972"
      ]
     },
     "execution_count": 6,
     "metadata": {},
     "output_type": "execute_result"
    }
   ],
   "source": [
    "sol_2 = opt.root_scalar(f, x0 = 0.1, fprime = diff_f,  method='newton')\n",
    "sol_2"
   ]
  },
  {
   "cell_type": "code",
   "execution_count": 7,
   "id": "0a0bd793",
   "metadata": {},
   "outputs": [
    {
     "name": "stdout",
     "output_type": "stream",
     "text": [
      "¿La solución convergió? True\n",
      "Número de iteraciones: 4\n",
      "Resultado raíz: 0.5668366475637197\n"
     ]
    }
   ],
   "source": [
    "# Utilizando el f del ejemplo de bisección \n",
    "\n",
    "x = Symbol('x')\n",
    "f = sin(x-3)**2 - cos(2*x)\n",
    "diff_f = f.diff(x)\n",
    "\n",
    "# Se pasa a un formato en donde se pueda operar x\n",
    "f = lambdify(x, f)\n",
    "diff_f = lambdify(x, diff_f)\n",
    "\n",
    "sol_2 = opt.root_scalar(f, x0 = 0.6, fprime = diff_f,  method='newton')\n",
    "\n",
    "# Resultados\n",
    "print(\"¿La solución convergió? {}\".format(sol_2.converged))\n",
    "print(\"Número de iteraciones: {}\".format(sol_2.iterations))\n",
    "print(\"Resultado raíz: {}\".format(sol_2.root))"
   ]
  },
  {
   "cell_type": "markdown",
   "id": "5a84470c",
   "metadata": {},
   "source": [
    "Note que el método de Newton tiene un menor número de iteraciones, esto se debe a que la ecuación que se utiliza parte de las series de Taylor. Puede leer más de esto en el libro <font color=\"blue\">Métodos Numéticos para ingenieros de Steven C. Chapla y Raymon P. Canale. </font> \n",
    "\n",
    "## Método de Secante\n",
    "----\n",
    "\n",
    "Parte del mismo principio del método de Newton pero en este no es necesario conocer la derivada, esta se aproxima por el método de diferencias finitas, quedando de la siguiente forma:\n",
    "\n",
    "$$x_{x+1}=x_i-\\frac{f(x_i)(x_i-x_{i-1})}{f(x_i)-f(x_{i-1})}$$\n",
    "\n",
    "Para utilizarlo, se debe poder conocer su derivada y se recomienda graficarlo antes ya que no garantiza que se encuentre una raíz. Para su implementación se utilizará en el parámetro ``method = 'secant'``"
   ]
  },
  {
   "cell_type": "code",
   "execution_count": 8,
   "id": "52674dc2",
   "metadata": {},
   "outputs": [
    {
     "name": "stdout",
     "output_type": "stream",
     "text": [
      "¿La solución convergió? True\n",
      "Número de iteraciones: 6\n",
      "Resultado raíz: 0.5668366475637199\n"
     ]
    }
   ],
   "source": [
    "tolerancia = 10**-8\n",
    "\n",
    "sol_2 = opt.root_scalar(f, method='secant', x0 = 0, x1= 1, rtol= tolerancia)\n",
    "\n",
    "# Resultados\n",
    "print(\"¿La solución convergió? {}\".format(sol_2.converged))\n",
    "print(\"Número de iteraciones: {}\".format(sol_2.iterations))\n",
    "print(\"Resultado raíz: {}\".format(sol_2.root))"
   ]
  },
  {
   "cell_type": "markdown",
   "id": "436c7313",
   "metadata": {},
   "source": [
    "## Dos ecuaciones y dos variables\n",
    "----\n",
    "\n",
    "Se quiere resolver el siguiente sistema de ecuaciones que tiene dos variables, tome $x = x_0$ y $y = x_1$, esto por la notación de la función de la librería. \n",
    "\n",
    "$$ (x_0 + 3)\\times (x_1^3 - 7) = -18 $$\n",
    "\n",
    "$$ \\sin{(x_1 e^{x_0} - 1)} = 0 $$\n",
    "\n",
    "La lógica detrás de lo anterior consiste en encontrar el punto de intersección entre las dos ecuaciones, para esto se igualan las ecuaciones a 0, después de lo anterior se introducen en la función ``fsolve``.\n",
    "\n",
    "Pasos:\n",
    "1. Importar la librería: ``from scipy.optimize import fsolve``\n",
    "2. Definir la función que se va a evaluar. <font color=\"red\">¡OJO! se utiliza la notación de arriba x = x[0] y y = x[1]. </font> \n",
    "3. Llamar el método fsolve, entra por parámetro la función definida anteriormente y los valores iniciales x, y en el caso 2D como primeras aproximaciones."
   ]
  },
  {
   "cell_type": "code",
   "execution_count": 9,
   "id": "0e88bb3a",
   "metadata": {},
   "outputs": [
    {
     "name": "stdout",
     "output_type": "stream",
     "text": [
      "Solución en x: 1.1335348765179664e-13\n",
      "Solución en y: 0.9999999999991627\n"
     ]
    },
    {
     "name": "stderr",
     "output_type": "stream",
     "text": [
      "C:\\Users\\malej\\AppData\\Local\\Temp\\ipykernel_1276\\459513798.py:14: RuntimeWarning: invalid value encountered in power\n",
      "  y_1 = (-18/(x + 3) + 7)**(1 / 3)\n"
     ]
    },
    {
     "data": {
      "image/png": "[encoded data removed]",
      "text/plain": [
       "<Figure size 432x288 with 1 Axes>"
      ]
     },
     "metadata": {
      "needs_background": "light"
     },
     "output_type": "display_data"
    }
   ],
   "source": [
    "from scipy.optimize import fsolve\n",
    "\n",
    "def func(x):\n",
    "    return [(x[0] + 3) * (x[1]**3 - 7) + 18,\n",
    "            math.sin(x[1] * math.exp(x[0])-1)]\n",
    "\n",
    "root = fsolve(func, [-0.5, 0.5])\n",
    "\n",
    "# Resultados\n",
    "print(\"Solución en x: {}\".format(root[0]))\n",
    "print(\"Solución en y: {}\".format(root[1]))\n",
    "\n",
    "x = np.linspace(-0.5, 1, 100)\n",
    "y_1 = (-18/(x + 3) + 7)**(1 / 3)\n",
    "y_2 = 1 / np.exp(x)\n",
    "plt.plot(x, y_1, label = r'$(x_0 + 3)\\times (x_1^3 - 7) = -18$')\n",
    "plt.plot(x, y_2, label = r'$sin{(x_1 e^{x_0} - 1)}$')\n",
    "plt.xticks(rotation=0)\n",
    "plt.minorticks_on()\n",
    "plt.ylim(None, None)\n",
    "plt.xlim(None, None)\n",
    "plt.grid(True)\n",
    "plt.grid(visible=True, which='major', color='grey', linestyle='-')\n",
    "plt.grid(visible=True, which='minor', color='lightgrey', linestyle='-', alpha=0.2)\n",
    "plt.legend()\n",
    "plt.show()\n",
    "\n",
    "# Aparece un error es normal por los valores que está calculando "
   ]
  },
  {
   "cell_type": "markdown",
   "id": "235ac783",
   "metadata": {},
   "source": [
    "# Parte práctica\n",
    "----\n",
    "En este caso, se va aplicar el método de solucion de ecuaciones no lineales en un problema de mecánica de fluidos. Cuando se estudian casos de flujo interno (por ejemplo, tuberías y sistemas de bombeo) es importante tener en cuenta los valores de las pérdidas debido a la fricción del fluido con las paredes. Esta información pasa a ser relevante en los casos de diseño de sistemas y selección de equipos de bombeo. Esta pérdida puede ser expresada en términos de una cabeza $h_f$, cuya dimensión son unidades de longitud, y puede interpretarse como una distancia máxima que se está perdiendo a causa de la fricción. Se define esta cabeza de pérdidas como:\n",
    "\n",
    "$$ h_f = f \\frac{l}{d} \\frac{V^2}{2g} $$\n",
    "\n",
    "Donde $f$ es el factor de fricción, una cantidad adimensional que es función de la rugosidad relativa y de las variables dinámicas del sistema. Las cantidades $l$ y $d$ son la longitud y el diámetro de la tubería, y $V$ es la velocidad del fluido. \n",
    "\n",
    "## Factor de fricción\n",
    "\n",
    "El factor de fricción depende de la rugosidad relativa de la tubería y del número de Reynolds $Re$, esto se puede ver de mejor forma en el diagrama de Moody. A su vez, el número de Reynolds está definido como:\n",
    "\n",
    "$$ Re = \\frac{V D}{\\nu} $$\n",
    "\n",
    "Donde $V$ es la velocidad del flujo, $D$ el diámetro de la tubería y $\\nu$ es la viscosidad cinemática del fluido. \n",
    "\n",
    "Este número adimensional permite clasificar los flujos de dos maneras, flujo turbulento y flujo laminar. El primero hace referencia a cuando el flujo es fluctuante y agitado, mientras que en el segundo el movimiento del fluido es suave y ordenado. \n",
    "\n",
    "* Laminar si $0 \\leq Re \\leq 10^3$\n",
    "* Transición a la turbulencia si $10^3 \\leq Re \\leq 10^4$\n",
    "* Turbulento si $10^4 \\leq Re \\leq \\infty$\n",
    "\n",
    "El factor de fricción para **flujos laminares** se puede aproximar con la siguiente expresión:\n",
    "\n",
    "$$f_{lam} = \\frac{64}{Re}$$\n",
    "\n",
    "Para **flujos turbulentos** comunmente se utiliza el diagrama de Moody, pero no muchas veces se tiene este a la mano, por lo cual se utiliza la ecuación de Colebrook - White, este es un problema de raices ya que se tiene el término de la fricción en ambos lados de la ecuación, por lo cual se busca un $(f)$ tal que la solución del sistema sea 0. \n",
    "\n",
    "$$\\frac{1}{\\sqrt{f}} = -2 \\log_{10}{\\bigg( \\frac{\\epsilon/d}{3.7} + \\frac{2.51}{Re \\sqrt{f}}\\bigg)}$$\n",
    "\n",
    "Puede leer más de esto en el libro <font color=\"blue\">Mecánica de Fluidos de Frank M. White </font> \n",
    "\n",
    "## Resultados a entregar\n",
    "\n",
    "Realizar una gráfica que muestre cómo varía la cabeza de pérdidas para: (1) tubería **_lisa_**, (2) una de una rugosidad relativa de 0.01 y (3) otra 0.02, todas con 10m de longitud con diámetros entre 10 y 20 centímetros, para una bomba que entrega un caudal de agua de $0.02 m^3/s$. Utilizar el valor de viscosidad cinemática del agua a 20 °C: $1.0035\\times 10 ^{-6} m^2/s$\n",
    "\n",
    "Recordar que el caudal se define como:\n",
    "\n",
    "$$ Q = VA$$\n",
    "\n",
    "Donde $V$ es la velocidad del fluido y $A$ es el **área transversal** de la tubería. \n",
    "\n",
    "**Nota**: Se recomienda verificar si el flujo es laminar o turbulento con el fin de usar la ecuación correcta de resolución para el factor de fricción. \n",
    "\n",
    "Se puede verificar el valor del factor de fricción encontrado usando el Diagrama de Moody, una gráfica que relaciona el número de reynolds con la rugosidad relativa y el factor de fricción:\n",
    "\n",
    "<img src=\"./img/Moody.png\" width=\"600\" height=\"700\">"
   ]
  },
  {
   "cell_type": "code",
   "execution_count": 1,
   "id": "1289c326",
   "metadata": {},
   "outputs": [],
   "source": [
    "# Importar librerías \n",
    "import numpy as np\n",
    "import pandas as pd\n",
    "import matplotlib.pyplot as plt\n",
    "from scipy import optimize as opt\n",
    "from sympy import *"
   ]
  },
  {
   "cell_type": "code",
   "execution_count": 2,
   "id": "9842faa7",
   "metadata": {},
   "outputs": [],
   "source": [
    "# Funciones \n",
    "\n",
    "def reynolds(velocidad: np.array, diametro: float, viscosidad: float)-> np.array:\n",
    "    \"\"\"\n",
    "    Función para el cálculo del número de Reynolds\n",
    "\n",
    "    Parameters\n",
    "    ----------\n",
    "    velocidad : np.array\n",
    "        Velocidad del fluido [m/s].\n",
    "    diametro : float\n",
    "        Diámetro de la tubería [m].\n",
    "    viscosidad : float\n",
    "        Viscosidad cinemática del fluido [m2/s].\n",
    "\n",
    "    Returns\n",
    "    -------\n",
    "    np.array\n",
    "        Número de Reynolds.\n",
    "\n",
    "    \"\"\"\n",
    "    \n",
    "    return velocidad*diametro / viscosidad \n",
    "\n",
    "def colebrook_white(x: float, rug_rel: float, Re: float)-> float:\n",
    "    \"\"\"\n",
    "    Función de colebrook whites\n",
    "\n",
    "    Parameters\n",
    "    ----------\n",
    "    x : float\n",
    "        Factor de fricción.\n",
    "    rug_rel : np.array\n",
    "        Rugosidad relativa de la tubería.\n",
    "    Re : float\n",
    "        Número de Reynolds.\n",
    "\n",
    "    Returns\n",
    "    -------\n",
    "    float\n",
    "        resultado entre el .\n",
    "\n",
    "    \"\"\"\n",
    "    return 1/np.sqrt(x) + 2*np.log10((rug_rel/3.7) + (2.51/(Re*np.sqrt(x))))"
   ]
  },
  {
   "cell_type": "code",
   "execution_count": 3,
   "id": "b11a4c41",
   "metadata": {},
   "outputs": [
    {
     "name": "stdout",
     "output_type": "stream",
     "text": [
      "[False False False False False False False False False False]\n"
     ]
    }
   ],
   "source": [
    "# Diámetros [m]\n",
    "diametros = np.linspace(10, 20, 10)/100\n",
    "\n",
    "# Gravedad [m/s^2]\n",
    "g = 9.81 \n",
    "\n",
    "# Rugosidades relativas\n",
    "rug_re_0 = 0\n",
    "rug_re_1 = 0.01 \n",
    "rug_re_2 = 0.02\n",
    "\n",
    "# Viscosidad [m^2/s]\n",
    "vis = 1.0035e-6  \n",
    "\n",
    "# Caudal [m^3/s]\n",
    "Q = 0.02      \n",
    "\n",
    "# Longitud [m]\n",
    "L = 10 \n",
    "\n",
    "# Áreas diámetros [m^2]\n",
    "Areas = np.pi*(diametros/2)**2\n",
    "\n",
    "# Velocidad del Fluido [m/s]\n",
    "Velocidad = Q/Areas\n",
    "\n",
    "# Número de Reynolds\n",
    "Reynolds = reynolds(Velocidad, diametros, vis)\n",
    "\n",
    "# Comprobación tipo de flujo\n",
    "print(Reynolds<10**3) "
   ]
  },
  {
   "cell_type": "code",
   "execution_count": 5,
   "id": "6c6b645d",
   "metadata": {},
   "outputs": [
    {
     "data": {
      "text/html": [
       "<div>\n",
       "<style scoped>\n",
       "    .dataframe tbody tr th:only-of-type {\n",
       "        vertical-align: middle;\n",
       "    }\n",
       "\n",
       "    .dataframe tbody tr th {\n",
       "        vertical-align: top;\n",
       "    }\n",
       "\n",
       "    .dataframe thead th {\n",
       "        text-align: right;\n",
       "    }\n",
       "</style>\n",
       "<table border=\"1\" class=\"dataframe\">\n",
       "  <thead>\n",
       "    <tr style=\"text-align: right;\">\n",
       "      <th></th>\n",
       "      <th>Diametros</th>\n",
       "      <th>Lisa</th>\n",
       "      <th>0.01</th>\n",
       "      <th>0.02</th>\n",
       "    </tr>\n",
       "  </thead>\n",
       "  <tbody>\n",
       "    <tr>\n",
       "      <th>0</th>\n",
       "      <td>0.100000</td>\n",
       "      <td>0.014932</td>\n",
       "      <td>0.038143</td>\n",
       "      <td>0.048792</td>\n",
       "    </tr>\n",
       "    <tr>\n",
       "      <th>1</th>\n",
       "      <td>0.111111</td>\n",
       "      <td>0.015238</td>\n",
       "      <td>0.038169</td>\n",
       "      <td>0.048809</td>\n",
       "    </tr>\n",
       "    <tr>\n",
       "      <th>2</th>\n",
       "      <td>0.122222</td>\n",
       "      <td>0.015523</td>\n",
       "      <td>0.038195</td>\n",
       "      <td>0.048826</td>\n",
       "    </tr>\n",
       "    <tr>\n",
       "      <th>3</th>\n",
       "      <td>0.133333</td>\n",
       "      <td>0.015790</td>\n",
       "      <td>0.038222</td>\n",
       "      <td>0.048843</td>\n",
       "    </tr>\n",
       "    <tr>\n",
       "      <th>4</th>\n",
       "      <td>0.144444</td>\n",
       "      <td>0.016042</td>\n",
       "      <td>0.038248</td>\n",
       "      <td>0.048860</td>\n",
       "    </tr>\n",
       "    <tr>\n",
       "      <th>5</th>\n",
       "      <td>0.155556</td>\n",
       "      <td>0.016280</td>\n",
       "      <td>0.038274</td>\n",
       "      <td>0.048877</td>\n",
       "    </tr>\n",
       "    <tr>\n",
       "      <th>6</th>\n",
       "      <td>0.166667</td>\n",
       "      <td>0.016507</td>\n",
       "      <td>0.038300</td>\n",
       "      <td>0.048894</td>\n",
       "    </tr>\n",
       "    <tr>\n",
       "      <th>7</th>\n",
       "      <td>0.177778</td>\n",
       "      <td>0.016722</td>\n",
       "      <td>0.038326</td>\n",
       "      <td>0.048911</td>\n",
       "    </tr>\n",
       "    <tr>\n",
       "      <th>8</th>\n",
       "      <td>0.188889</td>\n",
       "      <td>0.016929</td>\n",
       "      <td>0.038352</td>\n",
       "      <td>0.048928</td>\n",
       "    </tr>\n",
       "    <tr>\n",
       "      <th>9</th>\n",
       "      <td>0.200000</td>\n",
       "      <td>0.017127</td>\n",
       "      <td>0.038378</td>\n",
       "      <td>0.048945</td>\n",
       "    </tr>\n",
       "  </tbody>\n",
       "</table>\n",
       "</div>"
      ],
      "text/plain": [
       "   Diametros      Lisa      0.01      0.02\n",
       "0   0.100000  0.014932  0.038143  0.048792\n",
       "1   0.111111  0.015238  0.038169  0.048809\n",
       "2   0.122222  0.015523  0.038195  0.048826\n",
       "3   0.133333  0.015790  0.038222  0.048843\n",
       "4   0.144444  0.016042  0.038248  0.048860\n",
       "5   0.155556  0.016280  0.038274  0.048877\n",
       "6   0.166667  0.016507  0.038300  0.048894\n",
       "7   0.177778  0.016722  0.038326  0.048911\n",
       "8   0.188889  0.016929  0.038352  0.048928\n",
       "9   0.200000  0.017127  0.038378  0.048945"
      ]
     },
     "execution_count": 5,
     "metadata": {},
     "output_type": "execute_result"
    }
   ],
   "source": [
    "# Implementación método de bisección\n",
    "\n",
    "# Límites \n",
    "x_l = 0.001     # Inferior\n",
    "x_u = 0.05      # Superior\n",
    "\n",
    "fric_1 = []     # Factores fricción tubería lisa\n",
    "fric_2 = []     # Factores fricción 0.01\n",
    "fric_3 = []     # Factores fricción 0.02\n",
    "\n",
    "for i in range(len(Reynolds)):\n",
    "    # Rugosidad tubería lisa\n",
    "    sol_1 = opt.root_scalar(f= colebrook_white, \n",
    "                          bracket=[x_l, x_u], \n",
    "                          method = 'bisect',\n",
    "                          args = (rug_re_0, Reynolds[i]))\n",
    "\n",
    "    # Rugosidad tubería 0.01\n",
    "    sol_2 = opt.root_scalar(f= colebrook_white, \n",
    "                          bracket=[x_l, x_u], \n",
    "                          method = 'bisect',\n",
    "                          args = (rug_re_1, Reynolds[i]))\n",
    "\n",
    "    # Rugosidad tubería 0.02\n",
    "    sol_3 = opt.root_scalar(f= colebrook_white, \n",
    "                          bracket=[x_l, x_u], \n",
    "                          method = 'bisect',\n",
    "                          args = (rug_re_2, Reynolds[i]))\n",
    "    \n",
    "    fric_1.append(sol_1.root)\n",
    "    fric_2.append(sol_2.root)\n",
    "    fric_3.append(sol_3.root)\n",
    "\n",
    "# DataFrame con los datos de los factores de fricción encontrados\n",
    "df = pd.DataFrame({'Diametros': diametros,\n",
    "                   'Lisa': fric_1,\n",
    "                   '0.01': fric_2,\n",
    "                   '0.02': fric_3})\n",
    "df"
   ]
  },
  {
   "cell_type": "code",
   "execution_count": 6,
   "id": "8f64d719",
   "metadata": {},
   "outputs": [
    {
     "data": {
      "text/html": [
       "<div>\n",
       "<style scoped>\n",
       "    .dataframe tbody tr th:only-of-type {\n",
       "        vertical-align: middle;\n",
       "    }\n",
       "\n",
       "    .dataframe tbody tr th {\n",
       "        vertical-align: top;\n",
       "    }\n",
       "\n",
       "    .dataframe thead th {\n",
       "        text-align: right;\n",
       "    }\n",
       "</style>\n",
       "<table border=\"1\" class=\"dataframe\">\n",
       "  <thead>\n",
       "    <tr style=\"text-align: right;\">\n",
       "      <th></th>\n",
       "      <th>Diametros</th>\n",
       "      <th>Lisa</th>\n",
       "      <th>0.01</th>\n",
       "      <th>0.02</th>\n",
       "    </tr>\n",
       "  </thead>\n",
       "  <tbody>\n",
       "    <tr>\n",
       "      <th>0</th>\n",
       "      <td>0.100000</td>\n",
       "      <td>0.493505</td>\n",
       "      <td>1.260649</td>\n",
       "      <td>1.612598</td>\n",
       "    </tr>\n",
       "    <tr>\n",
       "      <th>1</th>\n",
       "      <td>0.111111</td>\n",
       "      <td>0.297390</td>\n",
       "      <td>0.744915</td>\n",
       "      <td>0.952556</td>\n",
       "    </tr>\n",
       "    <tr>\n",
       "      <th>2</th>\n",
       "      <td>0.122222</td>\n",
       "      <td>0.188110</td>\n",
       "      <td>0.462852</td>\n",
       "      <td>0.591669</td>\n",
       "    </tr>\n",
       "    <tr>\n",
       "      <th>3</th>\n",
       "      <td>0.133333</td>\n",
       "      <td>0.123845</td>\n",
       "      <td>0.299777</td>\n",
       "      <td>0.383078</td>\n",
       "    </tr>\n",
       "    <tr>\n",
       "      <th>4</th>\n",
       "      <td>0.144444</td>\n",
       "      <td>0.084321</td>\n",
       "      <td>0.201041</td>\n",
       "      <td>0.256820</td>\n",
       "    </tr>\n",
       "    <tr>\n",
       "      <th>5</th>\n",
       "      <td>0.155556</td>\n",
       "      <td>0.059076</td>\n",
       "      <td>0.138886</td>\n",
       "      <td>0.177360</td>\n",
       "    </tr>\n",
       "    <tr>\n",
       "      <th>6</th>\n",
       "      <td>0.166667</td>\n",
       "      <td>0.042422</td>\n",
       "      <td>0.098433</td>\n",
       "      <td>0.125658</td>\n",
       "    </tr>\n",
       "    <tr>\n",
       "      <th>7</th>\n",
       "      <td>0.177778</td>\n",
       "      <td>0.031124</td>\n",
       "      <td>0.071333</td>\n",
       "      <td>0.091033</td>\n",
       "    </tr>\n",
       "    <tr>\n",
       "      <th>8</th>\n",
       "      <td>0.188889</td>\n",
       "      <td>0.023269</td>\n",
       "      <td>0.052716</td>\n",
       "      <td>0.067252</td>\n",
       "    </tr>\n",
       "    <tr>\n",
       "      <th>9</th>\n",
       "      <td>0.200000</td>\n",
       "      <td>0.017690</td>\n",
       "      <td>0.039639</td>\n",
       "      <td>0.050552</td>\n",
       "    </tr>\n",
       "  </tbody>\n",
       "</table>\n",
       "</div>"
      ],
      "text/plain": [
       "   Diametros      Lisa      0.01      0.02\n",
       "0   0.100000  0.493505  1.260649  1.612598\n",
       "1   0.111111  0.297390  0.744915  0.952556\n",
       "2   0.122222  0.188110  0.462852  0.591669\n",
       "3   0.133333  0.123845  0.299777  0.383078\n",
       "4   0.144444  0.084321  0.201041  0.256820\n",
       "5   0.155556  0.059076  0.138886  0.177360\n",
       "6   0.166667  0.042422  0.098433  0.125658\n",
       "7   0.177778  0.031124  0.071333  0.091033\n",
       "8   0.188889  0.023269  0.052716  0.067252\n",
       "9   0.200000  0.017690  0.039639  0.050552"
      ]
     },
     "execution_count": 6,
     "metadata": {},
     "output_type": "execute_result"
    }
   ],
   "source": [
    "# Cabeza de pérdidas o perdidas por fricción en la longitud de la tubería\n",
    "# Tubería Lisa\n",
    "h_f_lisa = df['Lisa']*(L/diametros)*(Velocidad**2/(2*g))\n",
    "\n",
    "# Tubería e = 0.01\n",
    "h_f_1 = df['0.01']*(L/diametros)*(Velocidad**2/(2*g))\n",
    "\n",
    "# Tubería e = 0.02\n",
    "h_f_2 = df['0.02']*(L/diametros)*(Velocidad**2/(2*g))\n",
    "\n",
    "# DataFrame con los datos de los factores de fricción encontrados\n",
    "df_hf = pd.DataFrame({'Diametros': diametros,\n",
    "                      'Lisa': h_f_lisa,\n",
    "                      '0.01': h_f_1,\n",
    "                      '0.02': h_f_2})\n",
    "df_hf"
   ]
  },
  {
   "cell_type": "code",
   "execution_count": 7,
   "id": "90fcad4f",
   "metadata": {},
   "outputs": [
    {
     "data": {
      "image/png": "[encoded data removed]",
      "text/plain": [
       "<Figure size 432x288 with 1 Axes>"
      ]
     },
     "metadata": {
      "needs_background": "light"
     },
     "output_type": "display_data"
    }
   ],
   "source": [
    "plt.plot(diametros, h_f_lisa, label = 'Lisa')\n",
    "plt.plot(diametros, h_f_1, label = '0.01')\n",
    "plt.plot(diametros, h_f_2, label = '0.02')\n",
    "plt.legend(loc=1, fontsize= 7)\n",
    "plt.grid(True)\n",
    "plt.grid(visible=True, which='major', color='grey', linestyle='-')\n",
    "plt.minorticks_on()\n",
    "plt.grid(visible=True, which='minor', color='lightgrey', linestyle='-', alpha=0.2)\n",
    "plt.title('Cabeza de pérdidas')\n",
    "plt.xlabel('Diámetros [m]')\n",
    "plt.ylabel(r'$h_f$')\n",
    "\n",
    "plt.show()"
   ]
  }
 ],
 "metadata": {
  "kernelspec": {
   "display_name": "Python 3 (ipykernel)",
   "language": "python",
   "name": "python3"
  },
  "language_info": {
   "codemirror_mode": {
    "name": "ipython",
    "version": 3
   },
   "file_extension": ".py",
   "mimetype": "text/x-python",
   "name": "python",
   "nbconvert_exporter": "python",
   "pygments_lexer": "ipython3",
   "version": "3.9.12"
  }
 },
 "nbformat": 4,
 "nbformat_minor": 5
}
