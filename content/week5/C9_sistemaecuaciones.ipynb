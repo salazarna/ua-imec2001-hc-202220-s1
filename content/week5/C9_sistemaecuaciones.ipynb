{
 "cells": [
  {
   "cell_type": "markdown",
   "metadata": {},
   "source": [
    "# IMEC2001 Herramientas Computacionales \n",
    "## Semana 5: Sistemas de Ecuaciones\n",
    "### Clase 9: Sistemas de Ecuaciones\n",
    "\n",
    "Universidad de los Andes — Septiembre 6, 2022.\n",
    "\n",
    "---\n",
    "\n",
    "## TABLA DE CONTENIDO\n",
    "\n",
    "### Sección 1: Sistemas de Ecuaciones [→](#section1)\n",
    "- 1.1. Cargar Librerías\n",
    "- 1.2. Introducción\n",
    "- 1.3. Sistema de Ecuaciones Lineales\n",
    "- 1.4. Resolución de Sistema de Ecuaciones Lineales\n",
    "    - 1.4.1. Método de Sustitución\n",
    "    - 1.4.2. Método de Igualación\n",
    "    - 1.4.3. Método de Reducción\n",
    "    - 1.4.4. Método de Matrices con `numpy`\n",
    "        - 1.4.4.1 Empleando `numpy.linalg.inv` y `numpy.dots`\n",
    "        - 1.4.4.2 Empleando `numpy.linalg.solve`\n",
    "        - 1.4.4.3 Empleando `sympy.rref()`\n",
    "    - 1.4.5. Librería `scipy.optimize.fsolve`\n",
    "    - 1.4.6. Librería `sympy.solve`\n",
    "- 1.5. Resolución de Sistema de Ecuaciones No Lineales\n",
    "    - 1.5.1. Librería `scipy.optimize.fsolve`\n",
    "    - 1.5.2. Librerías `scipy.optimize.root`\n",
    "    - 1.5.3. Librería `sympy.solve`\n",
    "___"
   ]
  },
  {
   "cell_type": "markdown",
   "metadata": {},
   "source": [
    "<a id=\"section1\"></a>\n",
    "# Sección 1: Sistemas de Ecuaciones"
   ]
  },
  {
   "cell_type": "markdown",
   "metadata": {},
   "source": [
    "## 1.1. Cargar Librerías\n",
    "\n",
    "Primero, asegurémonos de haber instalado las librerías:\n",
    "\n",
    "> ```python\n",
    "  pip install numpy\n",
    "  pip install scipy\n",
    "  pip install sympy\n",
    "  ```"
   ]
  },
  {
   "cell_type": "code",
   "execution_count": 1,
   "metadata": {},
   "outputs": [],
   "source": [
    "# Datos y Gráficas\n",
    "%matplotlib inline\n",
    "import matplotlib.pyplot as plt\n",
    "import pandas as pd\n",
    "\n",
    "# Raíces\n",
    "import numpy as np\n",
    "from scipy import optimize\n",
    "import sympy"
   ]
  },
  {
   "cell_type": "markdown",
   "metadata": {},
   "source": [
    "## 1.2. Introducción\n",
    "\n",
    "Un sistema de ecuaciones es un conjunto de ecuaciones que involucra las mismas variables.\n",
    "\n",
    "Una solución de un sistema de ecuaciones es determinar los valores para las variables que satisface cada ecuación. Es decir, resolver un sistema de ecuaciones significa hallar todas las soluciones del sistema.\n",
    "\n",
    "Dicho en otras palabras:\n",
    "\n",
    "<div class=\"alert alert-block alert-success\">\n",
    "Un sistema de ecuaciones es un conjunto finito de ecuaciones para las que buscamos las soluciones comunes.\n",
    "</div>\n",
    "\n",
    "De la Semana 4, recordemos que una **ecuación lineal** es aquella que involucra una o más variables de primer grado (es decir, a la primera potencia) y no contiene productos entre las variables. Por tanto, una **ecuación no lineal** es aquella que no cumple estas condiciones.\n",
    "\n",
    "Por ejemplo, la siguiente es una ecuación lineal:\n",
    "\n",
    "$$\n",
    "ax + bx + c = 0\n",
    "$$\n",
    "\n",
    "Mientras que la siguiente no:\n",
    "\n",
    "$$\n",
    "ax^2 + bx + c = 0\n",
    "$$\n",
    "\n",
    "Note que la diferencia está en el primer término: $ax$ (ecuación lineal) y $ax^2$ (ecuación no lineal).\n",
    "\n",
    "La distinción entre un sistema de ecuaciones linales y uno de ecuaciones no lineales es importante para definir el método de resolución. Típicamente se tienen tres:\n",
    "- Métodos analíticos (sustitución, igualación, reducción, matrices).\n",
    "- Métodos numéricos (visto en Semana 4).\n",
    "- Métodos gráficos."
   ]
  },
  {
   "cell_type": "markdown",
   "metadata": {},
   "source": [
    "## 1.3. Sistema de Ecuaciones Lineales\n",
    "\n",
    "Es un conjunto de ecuaciones lineales en donde el problema consiste en encontrar los valores desconocidos de las variables $x_1, x_2, ..., x_n$ que satisfacen las $n$ ecuaciones.\n",
    "\n",
    "Por ejemplo, determinar los valores de $x_1$, $x_2$ y $x_3$ que cumplen:\n",
    "\n",
    "$$\n",
    "\\begin{cases}\n",
    "  3x_1 + 2x_2 + x_3 = 1 \\\\ \n",
    "  \\\\\n",
    "  2x_1 + 2x_2 + 4x_3 = -2 \\\\\n",
    "  \\\\\n",
    "  -x_1 + \\frac{1}{2}x_2 - x_3 = 0\n",
    "\\end{cases} \n",
    "$$\n",
    "\n",
    "Resolver un sistema de ecuaciones significa encontrar los valores de las variables utilizadas en el conjunto de ecuaciones.\n",
    "\n",
    "Según el número de soluciones, tenemos la siguiente clasificación de sistemas de ecuaciones lineales:\n",
    "- **Sistema incompatible** si no hay solución.\n",
    "- **Sistema compatible determinado** si hay un único conjunto de solución.\n",
    "- **Sistema compatible indeterminado** si hay un conjunto infinito de soluciones.\n",
    "\n",
    "<img src='./img/linealsols.png' width='700' height='700' />\n",
    "\n",
    "El sistema compatible determinado también se le conoce como **independiente**, pues cada ecuación aporta nueva información. Por el contrario, el sistema compatible indeterminado también se le conoce como **dependiente**. De aquí se derivan los términos: **linealmente independiente** y **linealmente dependiente**."
   ]
  },
  {
   "cell_type": "markdown",
   "metadata": {},
   "source": [
    "## 1.4. Resolución de Sistema de Ecuaciones Lineales\n",
    "\n",
    "Es importante tener en cuenta que para resolver un sistema de ecuaciones de 2 variables, necesitamos al menos 2 ecuaciones. De manera similar, para resolver un sistema de ecuaciones de 3 variables, necesitaremos al menos 3 ecuaciones.\n",
    "\n",
    "Ahora bien, veamos cuatro métodos para resolver un sistema de ecuaciones lineales:\n",
    "1. Método de sustitución.\n",
    "2. Método de igualación.\n",
    "3. Método de reducción.\n",
    "4. Método de matrices.\n",
    "\n",
    "<div class='alert alert-block alert-info'>   \n",
    "    \n",
    "<i class='fa fa-info-circle' aria-hidden='true'></i>\n",
    "Puede obtener más información de sistemas de ecuaciones lineales dando clic [aquí](https://es.wikipedia.org/wiki/Sistema_de_ecuaciones_lineales).\n",
    "</div>"
   ]
  },
  {
   "cell_type": "markdown",
   "metadata": {},
   "source": [
    "### 1.4.1. Método de Sustitución\n",
    "\n",
    "Consiste en despejar en una de las ecuaciones con cualquier incógnita, preferiblemente la que tenga menor coeficiente y a continuación sustituirla en otra ecuación por su valor. \n",
    "\n",
    "El paso a paso es:\n",
    "1. Se despeja una incógnita en una de las ecuaciones.\n",
    "2. Se sustituye la expresión de esta incógnita en la otra ecuación, obteniendo un ecuación con una sola incógnita.\n",
    "3. Se resuelve la ecuación.\n",
    "4. El valor obtenido se sustituye en la ecuación en la que aparecía la incógnita despejada.\n",
    "\n",
    "Por ejemplo:\n",
    "\n",
    "$$\n",
    "\\begin{cases}\n",
    "  3x_1 + x_2 = 22 & (1)\\\\ \n",
    "  \\\\\n",
    "  4x_1 - 3x_2 = -1 & (2)\\\\\n",
    "\\end{cases} \n",
    "$$\n",
    "\n",
    "**Paso 1.** Despejamos $x_2$ de la Ecuación 1:\n",
    "\n",
    "$$\n",
    "x_2 = 22 - 3x_1 \\hspace{1cm} (3)\n",
    "$$\n",
    "\n",
    "**Paso 2.** Sustituimos cada ocurrencia de la incógnita $x_2$ en la Ecuación 2, para así obtener una ecuación donde la única incógnita sea $x_1$:\n",
    "\n",
    "$$\n",
    "4x_1 - 3 (22 - 3x_1) = -1 \\hspace{1cm} (4)\n",
    "$$\n",
    "\n",
    "**Paso 3.** Resolvemos la Ecuación 4 para determinar $x_1$:\n",
    "\n",
    "$$\n",
    "4x_1 - 66 + 9x_1 = -1\n",
    "$$\n",
    "\n",
    "$$\n",
    "13x_1 = 65\n",
    "$$\n",
    "\n",
    "$$\n",
    "\\boxed{x_1 = 5}\n",
    "$$\n",
    "\n",
    "**Paso 4.** Ahora sustituimos $x_1$ en la Ecuación 1 para determinar $x_2$:\n",
    "\n",
    "$$\n",
    "3(5) + x_2 = 22\n",
    "$$\n",
    "\n",
    "$$\n",
    "\\boxed{x_2 = 7}\n",
    "$$"
   ]
  },
  {
   "cell_type": "code",
   "execution_count": 2,
   "metadata": {},
   "outputs": [],
   "source": [
    "def formato_grafica(titulo, ejex, ejey, leyenda=False, xlim=[None, None], ylim=[None, None]):\n",
    "    plt.rcParams['axes.axisbelow'] = True\n",
    "\n",
    "    plt.title(titulo, fontsize=15)\n",
    "    plt.ylabel(ejey, fontsize=13)\n",
    "    plt.xlabel(ejex, fontsize=13)\n",
    "\n",
    "    plt.tick_params(direction='out', length=5, width=0.75, grid_alpha=0.3)\n",
    "    plt.xticks(rotation=0)\n",
    "    plt.minorticks_on()\n",
    "    plt.ylim(ylim[0], ylim[1])\n",
    "    plt.xlim(xlim[0], xlim[1])\n",
    "    plt.grid(True)\n",
    "    plt.grid(visible=True, which='major', color='grey', linestyle='-')\n",
    "    plt.grid(visible=True, which='minor', color='lightgrey', linestyle='-', alpha=0.2)\n",
    "    \n",
    "    if leyenda == True:\n",
    "        plt.legend(loc='best')\n",
    "    \n",
    "    plt.tight_layout;"
   ]
  },
  {
   "cell_type": "code",
   "execution_count": 3,
   "metadata": {},
   "outputs": [
    {
     "data": {
      "text/plain": [
       "array([ 0.,  1.,  2.,  3.,  4.,  5.,  6.,  7.,  8.,  9., 10.])"
      ]
     },
     "execution_count": 3,
     "metadata": {},
     "output_type": "execute_result"
    }
   ],
   "source": [
    "# Definimos valores de X para evaluar\n",
    "x = np.linspace(start=0, stop=10, num=11)\n",
    "x"
   ]
  },
  {
   "cell_type": "code",
   "execution_count": 4,
   "metadata": {},
   "outputs": [
    {
     "data": {
      "text/plain": [
       "array([22., 19., 16., 13., 10.,  7.,  4.,  1., -2., -5., -8.])"
      ]
     },
     "execution_count": 4,
     "metadata": {},
     "output_type": "execute_result"
    }
   ],
   "source": [
    "# Definimos la Ecuación 1\n",
    "def ec1(x):\n",
    "    return 22 - 3*x\n",
    "\n",
    "y1 = ec1(x)\n",
    "y1"
   ]
  },
  {
   "cell_type": "code",
   "execution_count": 5,
   "metadata": {},
   "outputs": [
    {
     "data": {
      "text/plain": [
       "array([ 0.33333333,  1.66666667,  3.        ,  4.33333333,  5.66666667,\n",
       "        7.        ,  8.33333333,  9.66666667, 11.        , 12.33333333,\n",
       "       13.66666667])"
      ]
     },
     "execution_count": 5,
     "metadata": {},
     "output_type": "execute_result"
    }
   ],
   "source": [
    "# Definimos la Ecuación 2\n",
    "def ec2(x):\n",
    "    return (4*x + 1) /3\n",
    "\n",
    "y2 = ec2(x)\n",
    "y2"
   ]
  },
  {
   "cell_type": "code",
   "execution_count": 6,
   "metadata": {},
   "outputs": [
    {
     "data": {
      "image/png": "[encoded data removed]",
      "text/plain": [
       "<Figure size 720x450 with 1 Axes>"
      ]
     },
     "metadata": {
      "needs_background": "light"
     },
     "output_type": "display_data"
    }
   ],
   "source": [
    "hor = 8\n",
    "ver = 5\n",
    "fig1 = plt.figure(figsize=(hor, ver), dpi=90)\n",
    "\n",
    "plt.plot(x, y1, linestyle='-', color='dodgerblue', label='Ecuación 1')\n",
    "plt.plot(x, y2, linestyle='-', color='orange', label='Ecuación 2')\n",
    "plt.plot(5, 7, marker='o', ms='10', markerfacecolor='mediumseagreen', markeredgecolor='green', label='Solución: (5,7)')\n",
    "\n",
    "formato_grafica(titulo='Método Sustitución', \n",
    "                ejex='Eje X', \n",
    "                ejey='Eje Y',\n",
    "                leyenda=False)"
   ]
  },
  {
   "cell_type": "markdown",
   "metadata": {},
   "source": [
    "### 1.4.2. Método de Igualación\n",
    "\n",
    "Consiste en despejar la misma incógnita en dos ecuaciones y a continuación se igualan entre sí la parte derecha de ambas ecuaciones.\n",
    "\n",
    "El paso a paso es:\n",
    "1. Se despeja la misma incógnita en ambas ecuaciones.\n",
    "2. Se igualan las expresiones, con lo que obtenemos una ecuación con una incógnita.\n",
    "3. Se resuelve la ecuación.\n",
    "4. El valor obtenido se sustituye en cualquiera de las dos expresiones en las que aparecía despejada la otra incógnita.\n",
    "\n",
    "Con el ejemplo anterior:\n",
    "\n",
    "$$\n",
    "\\begin{cases}\n",
    "  3x_1 + x_2 = 22 & (1)\\\\ \n",
    "  \\\\\n",
    "  4x_1 - 3x_2 = -1 & (2)\\\\\n",
    "\\end{cases} \n",
    "$$\n",
    "\n",
    "**Paso 1.** Despejamos $x_2$ de las dos ecuaciones:\n",
    "\n",
    "$$\n",
    "\\begin{cases}\n",
    "  x_2 = 22 - 3x_1 & (3)\\\\ \n",
    "  \\\\\n",
    "  x_2 = \\frac{4x_1 + 1}{3} & (4)\\\\\n",
    "\\end{cases} \n",
    "$$\n",
    "\n",
    "**Paso 2.** Igualamos la Ecuación 3 y Ecuación 4:\n",
    "\n",
    "$$\n",
    "22 - 3x_1 = \\frac{4x_1 + 1}{3} \\hspace{1cm} (5)\n",
    "$$\n",
    "\n",
    "**Paso 3.** Resolvemos la Ecuación 5 para determinar $x_1$:\n",
    "\n",
    "$$\n",
    "3 (22 - 3x_1) = 4x_1 + 1\n",
    "$$\n",
    "\n",
    "$$\n",
    "13x_1 = 65\n",
    "$$\n",
    "\n",
    "$$\n",
    "\\boxed{x_1 = 5}\n",
    "$$\n",
    "\n",
    "**Paso 4.** Ahora sustituimos $x_1$ en la Ecuación 1 o Ecuación 2 para determinar $x_2$:\n",
    "\n",
    "$$\n",
    "3(5) + x_2 = 22\n",
    "$$\n",
    "\n",
    "$$\n",
    "\\boxed{x_2 = 7}\n",
    "$$"
   ]
  },
  {
   "cell_type": "markdown",
   "metadata": {},
   "source": [
    "### 1.4.3. Método de Reducción\n",
    "\n",
    "Consiste en transformar una de las ecuaciones de manera que obtengamos dos ecuaciones en la que una misma incógnita aparezca con el mismo coeficiente y distinto signo. Luego, se suman ambas ecuaciones produciéndose así la reducción o cancelación de dicha incógnita, obteniendo así una ecuación con una sola incógnita, donde el método de resolución es simple.\n",
    "\n",
    "El paso a paso es:\n",
    "1. Se preparan las dos ecuaciones, multiplicándolas por los números que convenga.\n",
    "2. La restamos o sumamos de forma que desaparece una de las incógnitas.\n",
    "3. Se resuelve la ecuación resultante.\n",
    "4. El valor obtenido se sustituye en una de las ecuaciones iniciales y se resuelve.\n",
    "\n",
    "Por ejemplo:\n",
    "\n",
    "$$\n",
    "\\begin{cases}\n",
    "  2x_1 + 3x_2 = 5 & (1)\\\\ \n",
    "  \\\\\n",
    "  5x_1 + 6x_2 = 4 & (2)\\\\\n",
    "\\end{cases} \n",
    "$$\n",
    "\n",
    "**Paso 1.** Multiplicamos la Ecuación 1 por -2 para, al sumar con la Ecuación 2, eliminar $x_2$:\n",
    "\n",
    "$$\n",
    "-2 (2x_1 + 3x_2 = 5) \\hspace{0.5cm} \\rightarrow \\hspace{0.5cm} -4x_1 - 6x_2 = -10 \\hspace{1cm} (3)\n",
    "$$\n",
    "\n",
    "**Paso 2 y 3.** Se suman la Ecuación 3 y Ecuación 2:\n",
    "\n",
    "$$\n",
    "(-4x_1 + 5x_1) + (-6x_2 + 6x_2) = (-10 + 4)\n",
    "$$\n",
    "\n",
    "$$\n",
    "\\boxed{x_1 = -6}\n",
    "$$\n",
    "\n",
    "**Paso 4.** Ahora sustituimos $x_1$ en la Ecuación 1 o Ecuación 2 para determinar $x_2$:\n",
    "\n",
    "$$\n",
    "2(-6) + 3x_2 = 55\n",
    "$$\n",
    "\n",
    "$$\n",
    "\\boxed{x_2 = 17/3 \\approx 5.7}\n",
    "$$"
   ]
  },
  {
   "cell_type": "code",
   "execution_count": 7,
   "metadata": {},
   "outputs": [
    {
     "data": {
      "text/plain": [
       "array([-10.,  -9.,  -8.,  -7.,  -6.,  -5.,  -4.,  -3.,  -2.,  -1.,   0.,\n",
       "         1.,   2.,   3.,   4.,   5.,   6.,   7.,   8.,   9.,  10.])"
      ]
     },
     "execution_count": 7,
     "metadata": {},
     "output_type": "execute_result"
    }
   ],
   "source": [
    "# Definimos valores de X para evaluar\n",
    "x = np.linspace(start=-10, stop=10, num=21)\n",
    "x"
   ]
  },
  {
   "cell_type": "code",
   "execution_count": 8,
   "metadata": {},
   "outputs": [
    {
     "data": {
      "text/plain": [
       "array([ 8.33333333,  7.66666667,  7.        ,  6.33333333,  5.66666667,\n",
       "        5.        ,  4.33333333,  3.66666667,  3.        ,  2.33333333,\n",
       "        1.66666667,  1.        ,  0.33333333, -0.33333333, -1.        ,\n",
       "       -1.66666667, -2.33333333, -3.        , -3.66666667, -4.33333333,\n",
       "       -5.        ])"
      ]
     },
     "execution_count": 8,
     "metadata": {},
     "output_type": "execute_result"
    }
   ],
   "source": [
    "# Definimos la Ecuación 1\n",
    "def ec1(x):\n",
    "    return (5 - 2*x) / 3\n",
    "\n",
    "y1 = ec1(x)\n",
    "y1"
   ]
  },
  {
   "cell_type": "code",
   "execution_count": 9,
   "metadata": {},
   "outputs": [
    {
     "data": {
      "text/plain": [
       "array([ 9.        ,  8.16666667,  7.33333333,  6.5       ,  5.66666667,\n",
       "        4.83333333,  4.        ,  3.16666667,  2.33333333,  1.5       ,\n",
       "        0.66666667, -0.16666667, -1.        , -1.83333333, -2.66666667,\n",
       "       -3.5       , -4.33333333, -5.16666667, -6.        , -6.83333333,\n",
       "       -7.66666667])"
      ]
     },
     "execution_count": 9,
     "metadata": {},
     "output_type": "execute_result"
    }
   ],
   "source": [
    "# Definimos la Ecuación 2\n",
    "def ec2(x):\n",
    "    return (4 - 5*x) /6\n",
    "\n",
    "y2 = ec2(x)\n",
    "y2"
   ]
  },
  {
   "cell_type": "code",
   "execution_count": 10,
   "metadata": {},
   "outputs": [
    {
     "data": {
      "image/png": "[encoded data removed]",
      "text/plain": [
       "<Figure size 720x450 with 1 Axes>"
      ]
     },
     "metadata": {
      "needs_background": "light"
     },
     "output_type": "display_data"
    }
   ],
   "source": [
    "hor = 8\n",
    "ver = 5\n",
    "fig1 = plt.figure(figsize=(hor, ver), dpi=90)\n",
    "\n",
    "plt.plot(x, y1, linestyle='-', color='dodgerblue', label='Ecuación 1')\n",
    "plt.plot(x, y2, linestyle='-', color='orange', label='Ecuación 2')\n",
    "plt.plot(-6, 17.0/3.0, marker='o', ms='10', markerfacecolor='mediumseagreen', markeredgecolor='green', label='Solución: (-6,5.7)')\n",
    "\n",
    "formato_grafica(titulo='Método Reducción', \n",
    "                ejex='Eje X', \n",
    "                ejey='Eje Y',\n",
    "                leyenda=False)"
   ]
  },
  {
   "cell_type": "markdown",
   "metadata": {},
   "source": [
    "### 1.4.4. Método de Matrices con `numpy`\n",
    "\n",
    "De forma genérica, tenemos $m$ ecuaciones lineales con $n$ incógnitas, donde las incógnitas son $x_1, x_2, ..., x_n$.\n",
    "\n",
    "$$\n",
    "\\begin{cases}\n",
    "  a_{11}x_1 + a_{12}x_2 + \\dots + a_{1n}x_n = b_1 & (1) \\\\ \n",
    "  \\\\\n",
    "  a_{21}x_1 + a_{22}x_2 + \\dots + a_{2n}x_n = b_2 & (2) \\\\\n",
    "  \\\\\n",
    "  \\hspace{2.5cm} \\vdots \\\\\n",
    "  \\\\\n",
    "   a_{m1}x_1 + a_{m2}x_2 + \\dots + a_{mn}x_n = b_m & (m) \\\\\n",
    "\\end{cases} \n",
    "$$\n",
    "\n",
    "Ahora, si separamos los coeficientes $a_{nm}$, es posible reescribir el sistema de ecuaciones en forma matricial, es decir:\n",
    "\n",
    "$$\n",
    "{\\begin{bmatrix}\n",
    "a_{11} & a_{12} & \\dots & a_{1n} \\\\\n",
    "a_{21} & a_{22} & \\dots & a_{2n} \\\\\n",
    "\\vdots & \\vdots & \\ddots & \\vdots \\\\\n",
    "a_{m1} & a_{m2} & \\dots & a_{mn} \\\\\n",
    "\\end{bmatrix}}\n",
    "{\\begin{bmatrix}\n",
    "x_1 \\\\\n",
    "x_2 \\\\\n",
    "\\vdots \\\\\n",
    "x_n \\\\\n",
    "\\end{bmatrix}} =\n",
    "{\\begin{bmatrix}\n",
    "b_1 \\\\\n",
    "b_2 \\\\\n",
    "\\vdots \\\\\n",
    "b_n \\\\\n",
    "\\end{bmatrix}}\n",
    "$$\n",
    "\n",
    "Representando cada matrix con una letra, se tiene:\n",
    "\n",
    "$$\n",
    "Ax = b\n",
    "$$\n",
    "\n",
    "Donde:\n",
    "- $A$ es una matriz de $m$ filas por $n$ columnas y se conoce como **matriz de coeficientes**.\n",
    "- $x$ es un vector columna de longitud $n$ (es decir, 1 columna y $n$ filas) y se conoce como **vector de incógnitas**.\n",
    "- $b$ es un vector columna de longitud $m$ (es decir, 1 columna y $m$ filas) y se conoce como **vector de términos independientes**.\n",
    "\n",
    "La solución es entonces:\n",
    "\n",
    "$$\n",
    "\\boxed{x = A^{-1} b}\n",
    "$$\n",
    "\n",
    "El término $A^{-1}$ es la **inversa de la matrix $A$**.\n",
    "\n",
    "En Python, el método de matrices se puede realizar empleando las librerías `numpy.linalg.inv` y `numpy.dots`, `numpy.linalg.solve`, y `sympy`."
   ]
  },
  {
   "cell_type": "markdown",
   "metadata": {},
   "source": [
    "Partamos del ejemplo resuelto anteriormente:\n",
    "\n",
    "$$\n",
    "\\begin{cases}\n",
    "  3x_1 + x_2 = 22 & (1)\\\\ \n",
    "  \\\\\n",
    "  4x_1 - 3x_2 = -1 & (2)\\\\\n",
    "\\end{cases} \n",
    "$$\n",
    "\n",
    "Donde las soluciones son:\n",
    "\n",
    "$$\n",
    "\\boxed{x_1 = 5}\n",
    "$$\n",
    "\n",
    "$$\n",
    "\\boxed{x_2 = 7}\n",
    "$$"
   ]
  },
  {
   "cell_type": "markdown",
   "metadata": {},
   "source": [
    "#### 1.4.4.1 Empleando `numpy.linalg.inv` y `numpy.dots`"
   ]
  },
  {
   "cell_type": "code",
   "execution_count": 11,
   "metadata": {},
   "outputs": [
    {
     "data": {
      "text/plain": [
       "array([[ 3,  1],\n",
       "       [ 4, -3]])"
      ]
     },
     "execution_count": 11,
     "metadata": {},
     "output_type": "execute_result"
    }
   ],
   "source": [
    "# PASO 1. Matriz de coeficientes (2 filas y 2 columnas)\n",
    "A = np.array( [ [3, 1],\n",
    "                [4, -3] ] )\n",
    "\n",
    "A"
   ]
  },
  {
   "cell_type": "code",
   "execution_count": 12,
   "metadata": {},
   "outputs": [
    {
     "data": {
      "text/plain": [
       "array([22, -1])"
      ]
     },
     "execution_count": 12,
     "metadata": {},
     "output_type": "execute_result"
    }
   ],
   "source": [
    "# PASO 2. Vector de términos independientes (2 filas y 1 columna)\n",
    "b = np.array( [22, -1] )\n",
    "b"
   ]
  },
  {
   "cell_type": "code",
   "execution_count": 13,
   "metadata": {},
   "outputs": [
    {
     "data": {
      "text/plain": [
       "array([[ 0.23076923,  0.07692308],\n",
       "       [ 0.30769231, -0.23076923]])"
      ]
     },
     "execution_count": 13,
     "metadata": {},
     "output_type": "execute_result"
    }
   ],
   "source": [
    "# PASO 3. Inversa de matriz de coeficientes -> A\n",
    "invA = np.linalg.inv(A)\n",
    "invA"
   ]
  },
  {
   "cell_type": "code",
   "execution_count": 14,
   "metadata": {},
   "outputs": [
    {
     "data": {
      "text/plain": [
       "array([5., 7.])"
      ]
     },
     "execution_count": 14,
     "metadata": {},
     "output_type": "execute_result"
    }
   ],
   "source": [
    "# PASO 4. Vector de incógnitas (2 filas y 1 columna) -> invA · b\n",
    "x = np.dot(invA, b)\n",
    "x"
   ]
  },
  {
   "cell_type": "markdown",
   "metadata": {},
   "source": [
    "<div class=\"alert alert-block alert-warning\">   \n",
    "\n",
    "**SU TURNO**\n",
    "\n",
    "Resuelva con las librerías `numpy.linalg.inv` y `numpy.dots` el siguiente sistema de ecuaciones lineales.\n",
    "\n",
    "$$\n",
    "\\begin{cases}\n",
    "  2x_1 + 3x_2 = 5 & (1)\\\\ \n",
    "  \\\\\n",
    "  5x_1 + 6x_2 = 4 & (2)\\\\\n",
    "\\end{cases} \n",
    "$$\n",
    "\n",
    "Donde las soluciones son:\n",
    "\n",
    "$$\n",
    "\\boxed{x_1 = -6}\n",
    "$$\n",
    "\n",
    "$$\n",
    "\\boxed{x_2 = 17/3 \\approx 5.7}\n",
    "$$\n",
    "\n",
    "</div>"
   ]
  },
  {
   "cell_type": "code",
   "execution_count": null,
   "metadata": {},
   "outputs": [],
   "source": []
  },
  {
   "cell_type": "markdown",
   "metadata": {},
   "source": [
    "#### 1.4.4.2 Empleando `numpy.linalg.solve`\n",
    "\n",
    "$$\n",
    "\\begin{cases}\n",
    "  3x_1 + x_2 = 22 & (1)\\\\ \n",
    "  \\\\\n",
    "  4x_1 - 3x_2 = -1 & (2)\\\\\n",
    "\\end{cases} \n",
    "$$\n",
    "\n",
    "Donde las soluciones son:\n",
    "\n",
    "$$\n",
    "\\boxed{x_1 = 5}\n",
    "$$\n",
    "\n",
    "$$\n",
    "\\boxed{x_2 = 7}\n",
    "$$"
   ]
  },
  {
   "cell_type": "code",
   "execution_count": 15,
   "metadata": {},
   "outputs": [
    {
     "data": {
      "text/plain": [
       "array([[ 3,  1],\n",
       "       [ 4, -3]])"
      ]
     },
     "execution_count": 15,
     "metadata": {},
     "output_type": "execute_result"
    }
   ],
   "source": [
    "# PASO 1. Matriz de coeficientes (2 filas y 2 columnas)\n",
    "A = np.array( [ [3, 1],\n",
    "                [4, -3] ] )\n",
    "\n",
    "A"
   ]
  },
  {
   "cell_type": "code",
   "execution_count": 16,
   "metadata": {},
   "outputs": [
    {
     "data": {
      "text/plain": [
       "array([22, -1])"
      ]
     },
     "execution_count": 16,
     "metadata": {},
     "output_type": "execute_result"
    }
   ],
   "source": [
    "# PASO 2. Vector de términos independientes (2 filas y 1 columna)\n",
    "b = np.array( [22, -1] )\n",
    "b"
   ]
  },
  {
   "cell_type": "code",
   "execution_count": 17,
   "metadata": {},
   "outputs": [
    {
     "data": {
      "text/plain": [
       "array([5., 7.])"
      ]
     },
     "execution_count": 17,
     "metadata": {},
     "output_type": "execute_result"
    }
   ],
   "source": [
    "# PASO 3. Vector de incógnitas (2 filas y 1 columna) -> invA · b\n",
    "x = np.linalg.solve(A, b)\n",
    "x"
   ]
  },
  {
   "cell_type": "markdown",
   "metadata": {},
   "source": [
    "<div class=\"alert alert-block alert-warning\">   \n",
    "\n",
    "**SU TURNO**\n",
    "\n",
    "Resuelva con la librería `numpy.linalg.solve` el siguiente sistema de ecuaciones lineales.\n",
    "\n",
    "$$\n",
    "\\begin{cases}\n",
    "  2x_1 + 3x_2 = 5 & (1)\\\\ \n",
    "  \\\\\n",
    "  5x_1 + 6x_2 = 4 & (2)\\\\\n",
    "\\end{cases} \n",
    "$$\n",
    "\n",
    "Donde las soluciones son:\n",
    "\n",
    "$$\n",
    "\\boxed{x_1 = -6}\n",
    "$$\n",
    "\n",
    "$$\n",
    "\\boxed{x_2 = 17/3 \\approx 5.7}\n",
    "$$\n",
    "\n",
    "</div>"
   ]
  },
  {
   "cell_type": "markdown",
   "metadata": {},
   "source": [
    "#### 1.4.4.3 Empleando `sympy.rref()`\n",
    "\n",
    "$$\n",
    "\\begin{cases}\n",
    "  3x_1 + x_2 = 22 & (1)\\\\ \n",
    "  \\\\\n",
    "  4x_1 - 3x_2 = -1 & (2)\\\\\n",
    "\\end{cases} \n",
    "$$\n",
    "\n",
    "Donde las soluciones son:\n",
    "\n",
    "$$\n",
    "\\boxed{x_1 = 5}\n",
    "$$\n",
    "\n",
    "$$\n",
    "\\boxed{x_2 = 7}\n",
    "$$"
   ]
  },
  {
   "cell_type": "code",
   "execution_count": 18,
   "metadata": {},
   "outputs": [
    {
     "data": {
      "text/latex": [
       "$\\displaystyle \\left[\\begin{matrix}3 & 1 & 22\\\\4 & -3 & -1\\end{matrix}\\right]$"
      ],
      "text/plain": [
       "Matrix([\n",
       "[3,  1, 22],\n",
       "[4, -3, -1]])"
      ]
     },
     "execution_count": 18,
     "metadata": {},
     "output_type": "execute_result"
    }
   ],
   "source": [
    "# PASO 1. Matriz de coeficientes y vector de términos independientes\n",
    "A_aumentada = sympy.Matrix( [ [3, 1, 22],\n",
    "                              [4, -3, -1] ] )\n",
    "\n",
    "A_aumentada"
   ]
  },
  {
   "cell_type": "code",
   "execution_count": 19,
   "metadata": {},
   "outputs": [
    {
     "data": {
      "text/latex": [
       "$\\displaystyle \\left[\\begin{matrix}1 & 0 & 5\\\\0 & 1 & 7\\end{matrix}\\right]$"
      ],
      "text/plain": [
       "Matrix([\n",
       "[1, 0, 5],\n",
       "[0, 1, 7]])"
      ]
     },
     "execution_count": 19,
     "metadata": {},
     "output_type": "execute_result"
    }
   ],
   "source": [
    "# PASO 2. Solución mediante matriz escalonada\n",
    "x = A_aumentada.rref()[0]\n",
    "x"
   ]
  },
  {
   "cell_type": "markdown",
   "metadata": {},
   "source": [
    "A partir del resultado obtenido:\n",
    "1. ¿Qué pueden observar e interpretar del término *matriz escalonada*?\n",
    "2. ¿Cuál es la solución?"
   ]
  },
  {
   "cell_type": "markdown",
   "metadata": {},
   "source": [
    "<div class=\"alert alert-block alert-warning\">   \n",
    "\n",
    "**SU TURNO**\n",
    "\n",
    "Resuelva con la librería `sympy` el siguiente sistema de ecuaciones lineales.\n",
    "\n",
    "$$\n",
    "\\begin{cases}\n",
    "  2x_1 + 3x_2 = 5 & (1)\\\\ \n",
    "  \\\\\n",
    "  5x_1 + 6x_2 = 4 & (2)\\\\\n",
    "\\end{cases} \n",
    "$$\n",
    "\n",
    "Donde las soluciones son:\n",
    "\n",
    "$$\n",
    "\\boxed{x_1 = -6}\n",
    "$$\n",
    "\n",
    "$$\n",
    "\\boxed{x_2 = 17/3 \\approx 5.7}\n",
    "$$\n",
    "\n",
    "</div>"
   ]
  },
  {
   "cell_type": "code",
   "execution_count": null,
   "metadata": {},
   "outputs": [],
   "source": []
  },
  {
   "cell_type": "markdown",
   "metadata": {},
   "source": [
    "### 1.4.5. Librería `scipy.optimize.fsolve`\n",
    "\n",
    "Recordemos que la librería `scipy.optimize.fsolve` la utilizamos para determinar las raíces de una función.\n",
    "\n",
    "Esta librería requiere dos parámetros de entrada:\n",
    "1. Función (en este caso el sistema de ecuaciones).\n",
    "2. Una primera estimación.\n",
    "\n",
    "<div class='alert alert-block alert-info'>   \n",
    "    \n",
    "<i class='fa fa-info-circle' aria-hidden='true'></i>\n",
    "Puede obtener más información en la documentación oficial de la librería `scipy.optimize.fsolve` dando clic [aquí](https://docs.scipy.org/doc/scipy/reference/generated/scipy.optimize.fsolve.html).\n",
    "</div>"
   ]
  },
  {
   "cell_type": "markdown",
   "metadata": {},
   "source": [
    "Veamos la sintaxis de `scipy.optimize.fsolve` con el Ejemplo 1:\n",
    "\n",
    "$$\n",
    "\\begin{cases}\n",
    "  3x_1 + x_2 = 22 & (1)\\\\ \n",
    "  \\\\\n",
    "  4x_1 - 3x_2 = -1 & (2)\\\\\n",
    "\\end{cases}\n",
    "$$\n",
    "\n",
    "Donde las soluciones son:\n",
    "\n",
    "$$\n",
    "\\boxed{x_1 = 5}\n",
    "$$\n",
    "\n",
    "$$\n",
    "\\boxed{x_2 = 7}\n",
    "$$"
   ]
  },
  {
   "cell_type": "code",
   "execution_count": 20,
   "metadata": {},
   "outputs": [],
   "source": [
    "# PASO 1. Definir la función\n",
    "def f(z):\n",
    "    ## Definimos las incógnitas\n",
    "    x1 = z[0]\n",
    "    x2 = z[1]\n",
    "    \n",
    "    ## Creamos una lista vacía para alojar las funciones\n",
    "    F = np.zeros(2)\n",
    "    \n",
    "    ## Alojamos las funciones en F (noten la parte derecha igual a cero)\n",
    "    F[0] = 3*x1 + x2 - 22\n",
    "    F[1] = 4*x1 - 3*x2 + 1\n",
    "    \n",
    "    return F"
   ]
  },
  {
   "cell_type": "code",
   "execution_count": 21,
   "metadata": {},
   "outputs": [
    {
     "data": {
      "text/plain": [
       "[1, 1]"
      ]
     },
     "execution_count": 21,
     "metadata": {},
     "output_type": "execute_result"
    }
   ],
   "source": [
    "# PASO 2. Indicar valor cercano a la raíz\n",
    "estimacion = [1, 1]\n",
    "estimacion"
   ]
  },
  {
   "cell_type": "code",
   "execution_count": 22,
   "metadata": {},
   "outputs": [
    {
     "data": {
      "text/plain": [
       "array([5., 7.])"
      ]
     },
     "execution_count": 22,
     "metadata": {},
     "output_type": "execute_result"
    }
   ],
   "source": [
    "# PASO 3. Estimar raíz\n",
    "x = optimize.fsolve(func=f,\n",
    "                    x0=estimacion)\n",
    "\n",
    "x"
   ]
  },
  {
   "cell_type": "markdown",
   "metadata": {},
   "source": [
    "<div class=\"alert alert-block alert-warning\">   \n",
    "\n",
    "**SU TURNO**\n",
    "\n",
    "Resuelva con la librería `scipy.optimize.fsolve` el siguiente sistema de ecuaciones lineales.\n",
    "\n",
    "$$\n",
    "\\begin{cases}\n",
    "  2x_1 + 3x_2 = 5 & (1)\\\\ \n",
    "  \\\\\n",
    "  5x_1 + 6x_2 = 4 & (2)\\\\\n",
    "\\end{cases} \n",
    "$$\n",
    "\n",
    "Donde las soluciones son:\n",
    "\n",
    "$$\n",
    "\\boxed{x_1 = -6}\n",
    "$$\n",
    "\n",
    "$$\n",
    "\\boxed{x_2 = 17/3 \\approx 5.7}\n",
    "$$\n",
    "\n",
    "</div>"
   ]
  },
  {
   "cell_type": "code",
   "execution_count": null,
   "metadata": {},
   "outputs": [],
   "source": []
  },
  {
   "cell_type": "markdown",
   "metadata": {},
   "source": [
    "### 1.4.6. Librería `sympy.solve`\n",
    "\n",
    "La forma en como podemos expresar las ecuaciones en código de forma 'similar a cuando la escribimos en una hoja' es de forma **simbólica**.\n",
    "\n",
    "La librería de Python que permite definir variables en forma simbólica es `sympy`. Esto se realiza mediante la función `sympy.Symbol`.\n",
    "\n",
    "A partir de las variables simbólicas y, empleando la función `sympy.solve`, podemos encontrar la solución del sistema de ecuaciones lineales.\n",
    "\n",
    "El flujo de trabajo es:\n",
    "\n",
    "1. Definiremos las variables simbólicas.\n",
    "2. Definiremos el sistema de ecuaciones.\n",
    "3. Encontraremos las soluciones mediante la función `sympy.solve`.\n",
    "\n",
    "La ventaja que tenemos sobre las demás funciones es que solo basta con escribir la función en forma simbólica para poder estimar las raíces.\n",
    "\n",
    "<div class='alert alert-block alert-info'>   \n",
    "    \n",
    "<i class='fa fa-info-circle' aria-hidden='true'></i>\n",
    "Puede obtener más información en la documentación oficial de la librería `sympy.solve` dando clic [aquí](https://docs.sympy.org/latest/modules/solvers/solvers.html).\n",
    "</div>"
   ]
  },
  {
   "cell_type": "markdown",
   "metadata": {},
   "source": [
    "Veamos la sintaxis de `sympy.solve` con el Ejemplo 1:\n",
    "\n",
    "$$\n",
    "\\begin{cases}\n",
    "  3x_1 + x_2 = 22 & (1)\\\\ \n",
    "  \\\\\n",
    "  4x_1 - 3x_2 = -1 & (2)\\\\\n",
    "\\end{cases}\n",
    "$$\n",
    "\n",
    "Donde las soluciones son:\n",
    "\n",
    "$$\n",
    "\\boxed{x_1 = 5}\n",
    "$$\n",
    "\n",
    "$$\n",
    "\\boxed{x_2 = 7}\n",
    "$$"
   ]
  },
  {
   "cell_type": "code",
   "execution_count": 23,
   "metadata": {},
   "outputs": [
    {
     "data": {
      "text/latex": [
       "$\\displaystyle x_{1}$"
      ],
      "text/plain": [
       "x_1"
      ]
     },
     "execution_count": 23,
     "metadata": {},
     "output_type": "execute_result"
    }
   ],
   "source": [
    "# PASO 1. Definir las variables simbólicas\n",
    "x1 = sympy.Symbol('x_1')\n",
    "x1"
   ]
  },
  {
   "cell_type": "code",
   "execution_count": 24,
   "metadata": {},
   "outputs": [
    {
     "data": {
      "text/latex": [
       "$\\displaystyle x_{2}$"
      ],
      "text/plain": [
       "x_2"
      ]
     },
     "execution_count": 24,
     "metadata": {},
     "output_type": "execute_result"
    }
   ],
   "source": [
    "x2 = sympy.Symbol('x_2')\n",
    "x2"
   ]
  },
  {
   "cell_type": "code",
   "execution_count": 25,
   "metadata": {},
   "outputs": [
    {
     "data": {
      "text/latex": [
       "$\\displaystyle 3 x_{1} + x_{2} = 22$"
      ],
      "text/plain": [
       "Eq(3*x_1 + x_2, 22)"
      ]
     },
     "execution_count": 25,
     "metadata": {},
     "output_type": "execute_result"
    }
   ],
   "source": [
    "# PASO 2. Definir las funciones simbólicas\n",
    "ec1 = sympy.Eq(3*x1 + x2, 22) # La derecha de la igualdad va después de la coma\n",
    "ec1"
   ]
  },
  {
   "cell_type": "code",
   "execution_count": 26,
   "metadata": {},
   "outputs": [
    {
     "data": {
      "text/latex": [
       "$\\displaystyle 4 x_{1} - 3 x_{2} = -1$"
      ],
      "text/plain": [
       "Eq(4*x_1 - 3*x_2, -1)"
      ]
     },
     "execution_count": 26,
     "metadata": {},
     "output_type": "execute_result"
    }
   ],
   "source": [
    "ec2 = sympy.Eq(4*x1 - 3*x2, -1)\n",
    "ec2"
   ]
  },
  {
   "cell_type": "code",
   "execution_count": 27,
   "metadata": {},
   "outputs": [
    {
     "data": {
      "text/plain": [
       "{x_1: 5, x_2: 7}"
      ]
     },
     "execution_count": 27,
     "metadata": {},
     "output_type": "execute_result"
    }
   ],
   "source": [
    "# PASO 3. Solucionar el sistema de ecuaciones\n",
    "sol = sympy.solve([ec1, ec2], # Lista de ecuaciones\n",
    "                  [x1, x2]) # Lista de símbolos\n",
    "sol"
   ]
  },
  {
   "cell_type": "markdown",
   "metadata": {},
   "source": [
    "<div class=\"alert alert-block alert-warning\">   \n",
    "\n",
    "**SU TURNO**\n",
    "\n",
    "Resuelva con la librería `sympy.solve` el siguiente sistema de ecuaciones lineales.\n",
    "\n",
    "$$\n",
    "\\begin{cases}\n",
    "  2x_1 + 3x_2 = 5 & (1)\\\\ \n",
    "  \\\\\n",
    "  5x_1 + 6x_2 = 4 & (2)\\\\\n",
    "\\end{cases} \n",
    "$$\n",
    "\n",
    "Donde las soluciones son:\n",
    "\n",
    "$$\n",
    "\\boxed{x_1 = -6}\n",
    "$$\n",
    "\n",
    "$$\n",
    "\\boxed{x_2 = 17/3 \\approx 5.7}\n",
    "$$\n",
    "\n",
    "</div>"
   ]
  },
  {
   "cell_type": "code",
   "execution_count": null,
   "metadata": {},
   "outputs": [],
   "source": []
  },
  {
   "cell_type": "markdown",
   "metadata": {},
   "source": [
    "## 1.5. Resolución de Sistema de Ecuaciones No Lineales\n",
    "\n",
    "Las soluciones de sistemas de ecuaciones no lineales emplean métodos numéricos, similar a como lo estudiamos en la Semana 4.\n",
    "\n",
    "Notemos que el método de sustitución también es aplicable cuando las ecuaciones son no lineales, sin embargo, su desarrollo manual es más laborioso y propenso a errores.\n",
    "\n",
    "Veremos cómo sacarle provecho a los desarrollos realizados con las librerías `scipy` y `sympy`."
   ]
  },
  {
   "cell_type": "markdown",
   "metadata": {},
   "source": [
    "### 1.5.1. Librería `scipy.optimize.fsolve`\n",
    "\n",
    "Para solucionar sistemas de ecuaciones **no** lineales, la sintaxis de la librería `scipy.optimize.fsolve` es exactamente la misma.\n",
    "\n",
    "Es decir, mantenemos dos parámetros de entrada:\n",
    "1. Función (en este caso el sistema de ecuaciones).\n",
    "2. Una primera estimación.\n",
    "\n",
    "<div class='alert alert-block alert-info'>   \n",
    "    \n",
    "<i class='fa fa-info-circle' aria-hidden='true'></i>\n",
    "Puede obtener más información en la documentación oficial de la librería `scipy.optimize.fsolve` dando clic [aquí](https://docs.scipy.org/doc/scipy/reference/generated/scipy.optimize.fsolve.html).\n",
    "</div>"
   ]
  },
  {
   "cell_type": "markdown",
   "metadata": {},
   "source": [
    "Empleemos la librería `scipy.optimize.fsolve` para estimar la solución del siguiente sistema de ecuaciones no lineales:\n",
    "\n",
    "$$\n",
    "\\begin{cases}\n",
    "  x_2 = x_1^2 + 6x_1 - 8 & (1) \\\\ \n",
    "  \\\\\n",
    "  x_2 = 4x_1 + 7 & (2)\n",
    "\\end{cases} \n",
    "$$"
   ]
  },
  {
   "cell_type": "code",
   "execution_count": 28,
   "metadata": {},
   "outputs": [
    {
     "data": {
      "image/png": "[encoded data removed]",
      "text/plain": [
       "<Figure size 720x450 with 1 Axes>"
      ]
     },
     "metadata": {
      "needs_background": "light"
     },
     "output_type": "display_data"
    }
   ],
   "source": [
    "# Inspección gráfica\n",
    "x = np.linspace(start=-10, stop=10, num=21)\n",
    "\n",
    "def ec1(x):\n",
    "    return x**2 + 6*x - 8\n",
    "\n",
    "def ec2(x):\n",
    "    return 4*x + 7\n",
    "\n",
    "y1 = ec1(x)\n",
    "y2 = ec2(x)\n",
    "\n",
    "hor = 8\n",
    "ver = 5\n",
    "fig1 = plt.figure(figsize=(hor, ver), dpi=90)\n",
    "\n",
    "plt.plot(x, y1, linestyle='-', color='dodgerblue', label='Ecuación 1')\n",
    "plt.plot(x, y2, linestyle='-', color='orange', label='Ecuación 2')\n",
    "\n",
    "formato_grafica(titulo='Método Reducción', \n",
    "                ejex='Eje X', \n",
    "                ejey='Eje Y',\n",
    "                leyenda=False)"
   ]
  },
  {
   "cell_type": "code",
   "execution_count": 29,
   "metadata": {},
   "outputs": [],
   "source": [
    "# PASO 1. Definir la función\n",
    "def f(z):\n",
    "    ## Definimos las incógnitas\n",
    "    x1 = z[0]\n",
    "    x2 = z[1]\n",
    "    \n",
    "    ## Creamos una lista vacía para alojar las funciones\n",
    "    F = np.zeros(2)\n",
    "    \n",
    "    ## Alojamos las funciones en F (noten la parte derecha igual a cero)\n",
    "    F[0] = x2 - x1**2 - 6*x1 + 8\n",
    "    F[1] = x2 - 4*x1 - 7\n",
    "    \n",
    "    return F"
   ]
  },
  {
   "cell_type": "code",
   "execution_count": 30,
   "metadata": {},
   "outputs": [
    {
     "data": {
      "text/plain": [
       "[1, 1]"
      ]
     },
     "execution_count": 30,
     "metadata": {},
     "output_type": "execute_result"
    }
   ],
   "source": [
    "# PASO 2. Indicar valor cercano a la raíz\n",
    "estimacion = [1, 1]\n",
    "estimacion"
   ]
  },
  {
   "cell_type": "code",
   "execution_count": 31,
   "metadata": {},
   "outputs": [
    {
     "data": {
      "text/plain": [
       "array([ 3., 19.])"
      ]
     },
     "execution_count": 31,
     "metadata": {},
     "output_type": "execute_result"
    }
   ],
   "source": [
    "# PASO 3. Solucionar el sistema de ecuaciones\n",
    "sol = optimize.fsolve(func=f,\n",
    "                      x0=estimacion)\n",
    "\n",
    "sol"
   ]
  },
  {
   "cell_type": "code",
   "execution_count": 32,
   "metadata": {},
   "outputs": [
    {
     "data": {
      "image/png": "[encoded data removed]",
      "text/plain": [
       "<Figure size 720x450 with 1 Axes>"
      ]
     },
     "metadata": {
      "needs_background": "light"
     },
     "output_type": "display_data"
    }
   ],
   "source": [
    "hor = 8\n",
    "ver = 5\n",
    "fig1 = plt.figure(figsize=(hor, ver), dpi=90)\n",
    "\n",
    "plt.plot(x, y1, linestyle='-', color='dodgerblue', label='Ecuación 1')\n",
    "plt.plot(x, y2, linestyle='-', color='orange', label='Ecuación 2')\n",
    "\n",
    "# Solución ↓\n",
    "plt.plot(3, 19, marker='o', ms='10', markerfacecolor='mediumseagreen', markeredgecolor='green', label='Solución: (3,19)')\n",
    "plt.plot(-5, -13, marker='o', ms='10', markerfacecolor='tomato', markeredgecolor='crimson', label='Solución: (5,-13)')\n",
    "\n",
    "\n",
    "formato_grafica(titulo='Método Reducción', \n",
    "                ejex='Eje X', \n",
    "                ejey='Eje Y',\n",
    "                leyenda=True)\n"
   ]
  },
  {
   "cell_type": "markdown",
   "metadata": {},
   "source": [
    "<div class=\"alert alert-block alert-warning\">   \n",
    "\n",
    "**SU TURNO**\n",
    "\n",
    "Resuelva con la librería `scipy.optimize.fsolve` el siguiente sistema de ecuaciones lineales.\n",
    "\n",
    "$$\n",
    "\\begin{cases}\n",
    "  x_1^2 + x_2^2 = 36 & (1) \\\\ \n",
    "  \\\\\n",
    "  x_1 + x_2 = 7 & (2)\n",
    "\\end{cases} \n",
    "$$\n",
    "\n",
    "Donde las soluciones son:\n",
    "\n",
    "$$\n",
    "\\boxed{x_1 = (1.1, 5.8)}\n",
    "$$\n",
    "\n",
    "$$\n",
    "\\boxed{x_2 = (5.8, 1.1)}\n",
    "$$\n",
    "\n",
    "</div>"
   ]
  },
  {
   "cell_type": "code",
   "execution_count": null,
   "metadata": {},
   "outputs": [],
   "source": []
  },
  {
   "cell_type": "markdown",
   "metadata": {},
   "source": [
    "### 1.5.2. Librería `scipy.optimize.root`\n",
    "\n",
    "La sintaxis es exactamente la misma a la de la librería `scipy.optimize.fsolve`.\n",
    "\n",
    "Es decir, mantenemos dos parámetros de entrada:\n",
    "1. Función (en este caso el sistema de ecuaciones).\n",
    "2. Una primera estimación.\n",
    "\n",
    "<div class='alert alert-block alert-info'>   \n",
    "    \n",
    "<i class='fa fa-info-circle' aria-hidden='true'></i>\n",
    "Puede obtener más información en la documentación oficial de la librería `scipy.optimize.root` dando clic [aquí](https://docs.scipy.org/doc/scipy/reference/generated/scipy.optimize.root.html).\n",
    "</div>"
   ]
  },
  {
   "cell_type": "code",
   "execution_count": 33,
   "metadata": {},
   "outputs": [],
   "source": [
    "# PASO 1. Definir la función\n",
    "def f(z):\n",
    "    ## Definimos las incógnitas\n",
    "    x1 = z[0]\n",
    "    x2 = z[1]\n",
    "    \n",
    "    ## Creamos una lista vacía para alojar las funciones\n",
    "    F = np.array( [ x2 - x1**2 - 6*x1 + 8,\n",
    "                    x2 - 4*x1 - 7])\n",
    "    \n",
    "    return F"
   ]
  },
  {
   "cell_type": "code",
   "execution_count": 34,
   "metadata": {},
   "outputs": [
    {
     "data": {
      "text/plain": [
       "[1, 1]"
      ]
     },
     "execution_count": 34,
     "metadata": {},
     "output_type": "execute_result"
    }
   ],
   "source": [
    "# PASO 2. Indicar valor cercano a la raíz\n",
    "estimacion = [1, 1]\n",
    "estimacion"
   ]
  },
  {
   "cell_type": "code",
   "execution_count": 35,
   "metadata": {},
   "outputs": [
    {
     "data": {
      "text/plain": [
       "    fjac: array([[-0.93507555, -0.35444848],\n",
       "       [ 0.35444848, -0.93507555]])\n",
       "     fun: array([-1.61648472e-13,  0.00000000e+00])\n",
       " message: 'The solution converged.'\n",
       "    nfev: 10\n",
       "     qtf: array([-5.98880940e-08,  2.27011023e-08])\n",
       "       r: array([11.28513798, -0.95113821, -0.70889514])\n",
       "  status: 1\n",
       " success: True\n",
       "       x: array([ 3., 19.])"
      ]
     },
     "execution_count": 35,
     "metadata": {},
     "output_type": "execute_result"
    }
   ],
   "source": [
    "# PASO 3. Solucionar el sistema de ecuaciones\n",
    "x = optimize.root(fun=f,\n",
    "                  x0=estimacion)\n",
    "\n",
    "x"
   ]
  },
  {
   "cell_type": "markdown",
   "metadata": {},
   "source": [
    "<div class=\"alert alert-block alert-warning\">   \n",
    "\n",
    "**SU TURNO**\n",
    "\n",
    "Resuelva con la librería `scipy.optimize.root` el siguiente sistema de ecuaciones lineales.\n",
    "\n",
    "$$\n",
    "\\begin{cases}\n",
    "  x_1^2 + x_2^2 = 36 & (1) \\\\ \n",
    "  \\\\\n",
    "  x_1 + x_2 = 7 & (2)\n",
    "\\end{cases} \n",
    "$$\n",
    "\n",
    "Donde las soluciones son:\n",
    "\n",
    "$$\n",
    "\\boxed{x_1 = (1.1, 5.8)}\n",
    "$$\n",
    "\n",
    "$$\n",
    "\\boxed{x_2 = (5.8, 1.1)}\n",
    "$$\n",
    "\n",
    "</div>"
   ]
  },
  {
   "cell_type": "code",
   "execution_count": null,
   "metadata": {},
   "outputs": [],
   "source": []
  },
  {
   "cell_type": "markdown",
   "metadata": {},
   "source": [
    "### 1.5.3. Librería `sympy.solve`\n",
    "\n",
    "De nuevo, aprovechamos las bondades de trabajar con variables simbólicas con la librería `sympy`.\n",
    "\n",
    "Al igual que en el caso del sistema de ecuaciones lineales, a partir de las variables simbólicas y, empleando la función `sympy.solve`, podemos encontrar la solución del sistema de ecuaciones **no** lineales.\n",
    "\n",
    "El flujo de trabajo es:\n",
    "\n",
    "1. Definiremos las variables simbólicas.\n",
    "2. Definiremos el sistema de ecuaciones.\n",
    "3. Encontraremos las soluciones mediante la función `sympy.solve`.\n",
    "\n",
    "<div class='alert alert-block alert-info'>   \n",
    "    \n",
    "<i class='fa fa-info-circle' aria-hidden='true'></i>\n",
    "Puede obtener más información en la documentación oficial de la librería `sympy.solve` dando clic [aquí](https://docs.sympy.org/latest/modules/solvers/solvers.html).\n",
    "</div>"
   ]
  },
  {
   "cell_type": "markdown",
   "metadata": {},
   "source": [
    "Encontremos las soluciones del siguiente sistema de ecuaciones no lineales, utilizando `sympy.solve`:\n",
    "\n",
    "$$\n",
    "\\begin{cases}\n",
    "  x_2 = x_1^2 + 6x_1 - 8 & (1) \\\\ \n",
    "  \\\\\n",
    "  x_2 = 4x_1 + 7 & (2)\n",
    "\\end{cases} \n",
    "$$"
   ]
  },
  {
   "cell_type": "code",
   "execution_count": 36,
   "metadata": {},
   "outputs": [
    {
     "data": {
      "text/latex": [
       "$\\displaystyle x_{1}$"
      ],
      "text/plain": [
       "x_1"
      ]
     },
     "execution_count": 36,
     "metadata": {},
     "output_type": "execute_result"
    }
   ],
   "source": [
    "# PASO 1. Definir las variables simbólicas\n",
    "x1 = sympy.Symbol('x_1')\n",
    "x1"
   ]
  },
  {
   "cell_type": "code",
   "execution_count": 37,
   "metadata": {},
   "outputs": [
    {
     "data": {
      "text/latex": [
       "$\\displaystyle x_{2}$"
      ],
      "text/plain": [
       "x_2"
      ]
     },
     "execution_count": 37,
     "metadata": {},
     "output_type": "execute_result"
    }
   ],
   "source": [
    "x2 = sympy.Symbol('x_2')\n",
    "x2"
   ]
  },
  {
   "cell_type": "code",
   "execution_count": 38,
   "metadata": {},
   "outputs": [
    {
     "data": {
      "text/latex": [
       "$\\displaystyle x_{2} = x_{1}^{2} + 6 x_{1} - 8$"
      ],
      "text/plain": [
       "Eq(x_2, x_1**2 + 6*x_1 - 8)"
      ]
     },
     "execution_count": 38,
     "metadata": {},
     "output_type": "execute_result"
    }
   ],
   "source": [
    "# PASO 2. Definir las funciones simbólicas\n",
    "ec1 = sympy.Eq(x2, x1**2 + 6*x1 -8) # La derecha de la igualdad va después de la coma\n",
    "ec1"
   ]
  },
  {
   "cell_type": "code",
   "execution_count": 39,
   "metadata": {},
   "outputs": [
    {
     "data": {
      "text/latex": [
       "$\\displaystyle x_{2} = 4 x_{1} + 7$"
      ],
      "text/plain": [
       "Eq(x_2, 4*x_1 + 7)"
      ]
     },
     "execution_count": 39,
     "metadata": {},
     "output_type": "execute_result"
    }
   ],
   "source": [
    "ec2 = sympy.Eq(x2, 4*x1 + 7)\n",
    "ec2"
   ]
  },
  {
   "cell_type": "code",
   "execution_count": 40,
   "metadata": {},
   "outputs": [
    {
     "data": {
      "text/plain": [
       "[(-5, -13), (3, 19)]"
      ]
     },
     "execution_count": 40,
     "metadata": {},
     "output_type": "execute_result"
    }
   ],
   "source": [
    "# PASO 3. Solucionar el sistema de ecuaciones\n",
    "sol = sympy.solve([ec1, ec2], # Lista de ecuaciones\n",
    "                  [x1, x2]) # Lista de símbolos\n",
    "sol"
   ]
  },
  {
   "cell_type": "markdown",
   "metadata": {},
   "source": [
    "<div class=\"alert alert-block alert-warning\">   \n",
    "\n",
    "**SU TURNO**\n",
    "\n",
    "Resuelva con la librería `sympy.solve` el siguiente sistema de ecuaciones lineales.\n",
    "\n",
    "$$\n",
    "\\begin{cases}\n",
    "  x_1^2 + x_2^2 = 36 & (1) \\\\ \n",
    "  \\\\\n",
    "  x_1 + x_2 = 7 & (2)\n",
    "\\end{cases} \n",
    "$$\n",
    "\n",
    "Donde las soluciones son:\n",
    "\n",
    "$$\n",
    "\\boxed{x_1 = (1.1, 5.8)}\n",
    "$$\n",
    "\n",
    "$$\n",
    "\\boxed{x_2 = (5.8, 1.1)}\n",
    "$$\n",
    "\n",
    "</div>"
   ]
  },
  {
   "cell_type": "code",
   "execution_count": null,
   "metadata": {},
   "outputs": [],
   "source": []
  }
 ],
 "metadata": {
  "kernelspec": {
   "display_name": "Python 3",
   "language": "python",
   "name": "python3"
  },
  "language_info": {
   "codemirror_mode": {
    "name": "ipython",
    "version": 3
   },
   "file_extension": ".py",
   "mimetype": "text/x-python",
   "name": "python",
   "nbconvert_exporter": "python",
   "pygments_lexer": "ipython3",
   "version": "3.7.4"
  },
  "toc": {
   "base_numbering": 1,
   "nav_menu": {},
   "number_sections": false,
   "sideBar": true,
   "skip_h1_title": true,
   "title_cell": "Table of Contents",
   "title_sidebar": "Contents",
   "toc_cell": false,
   "toc_position": {},
   "toc_section_display": true,
   "toc_window_display": false
  }
 },
 "nbformat": 4,
 "nbformat_minor": 2
}
