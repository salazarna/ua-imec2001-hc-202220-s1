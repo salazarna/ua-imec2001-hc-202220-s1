{
 "cells": [
  {
   "cell_type": "markdown",
   "metadata": {},
   "source": []
  },
  {
   "cell_type": "markdown",
   "metadata": {},
   "source": [
    "## IMEC2201 Herramientas Computacionales \n",
    "## Taller Semana 5: Sistemas de Ecuaciones\n",
    "### Fecha Límite Entrega (Bloque Neón): <font color=\"#FF5733\">15:29h de Noviembre 17, 2022</font>\n",
    "\n",
    "Universidad de los Andes — Noviembre 10, 2022.\n",
    "___\n",
    "### <u>Tener en Cuenta</u>\n",
    "- La entrega del taller es por Bloque Neon y se envía el archivo en formato de Jupyter Notebook (extensión '.ipynb').\n",
    "- El nombre del archivo debe ser: `T5_ApellidosE1_ApellidosE2`Ej:T5_SalazarPeña_VargasTorres\n",
    "- En la casilla anterior a esta coloque su nombre o los nombres (Máximo 2 personas).\n",
    "- La solución solo la envía uno de los integrantes del grupo.\n",
    "___\n",
    "# Semana 5: Sistemas de Ecuaciones Lineales\n",
    "\n",
    "Los sistemas de ecuaciones lineales son frecuentes en problemas de ingeniería, los ejemplos más comunes son en circuitos electronicos y estática. En ingeniería mecánica, se encuentran en diferentes problemas como resistencias térmicas y ecuaciones de equilibrio de cuerpos y partículas estáticas. Algunos de los términos y operaciones que se deben recordar de Algebra lineal son los siguientes:\n",
    "\n",
    "<b>Matriz Simétrica </b>\n",
    "$$[A] = [A]^T \\rightarrow a_{ij}=a_{ji}$$\n",
    "\n",
    "<b>Suma de Matrices </b>\n",
    "\n",
    "$[A] + [B] = [B] + [A] \\rightarrow $ Conmutativa\n",
    "\n",
    "$([A]+[B])+[C]=[A]+([B]+[C]) \\rightarrow $ Asociativa\n",
    "\n",
    "<b>Matríz Identidad [3x3]</b>\n",
    "\n",
    "$$[A]^{-1}[A] = [A][A]^{-1} = \\begin{bmatrix}\n",
    "\t1 & 0 & 0\\\\\n",
    "\t0 & 1 & 0\\\\\n",
    "\t0 & 0 & 1\\\\\n",
    "\\end{bmatrix} $$\n",
    "\n",
    "<b>Multiplicación </b>\n",
    "\n",
    "$([A][B])[C] = [A]([B][C]) \\rightarrow $ Asociativa\n",
    "\n",
    "$[A]([B]+[C]) = [A][B] + [A][C] \\rightarrow $ Distributiva\n",
    "\n",
    "$[A][B] \\neq [B][A] \\rightarrow $ No es Conmutativa\n",
    "\n",
    "Teniendo en cuenta lo anterior, se tiene que los sistemas de ecuaciones tienen la estructura $[A]{x} = {B}$ donde A es la matriz de los coeficientes o valores conocidos, x las el vector columna de las incognitas y B el vector columna de las constantes o de terminos independientes. Su solución está dada por ${x} = [A]^{-1}{B}$, se tiene que hay  una única solución cuando el determinante es diferente de 0. Otros métodos para solucionar estos sistemas son: la eliminación por Gauss simple, sustitución, la regla del Crammer, entre otros.\n",
    "\n",
    "Teniendo en cuenta lo anterior se tiene el siguiente ejercicio de estática con el siguiente sistemas de ecuaciones (Intente generarlo).\n",
    "\n",
    "<img src=\"./img/Ejercicio_1.png\" width='300' height='200'/>\n",
    "\n",
    "$ F_1 = 200 N $\n",
    "\n",
    "$ F_2 = 300 N $\n",
    "\n",
    "$$ \\begin{bmatrix}\n",
    "\t1 & 0 & 0\\\\\n",
    "\t0 & 1 & 1\\\\\n",
    "\t0 & 0 & 1\\\\\n",
    "\\end{bmatrix} \n",
    "\\begin{Bmatrix} %Vector de términos independentes\n",
    "\tR_{A_{x}} \\\\\n",
    "\tR_{A_{y}} \\\\\n",
    "    R_{B_{y}} \\\\\n",
    "\\end{Bmatrix} = \n",
    "\\begin{Bmatrix} %Vector de términos independentes\n",
    "\t0 \\\\\n",
    "\tF_1 + F_2 \\\\\n",
    "\tF_1(0.5) + F_2(1.5)\n",
    "\\end{Bmatrix} $$\n",
    "\n",
    "Solucionando el sistema se tiene que:\n",
    "\n",
    "$$\\begin{equation} \\label{eq1}\n",
    "\\begin{split}\n",
    "R_{A_{x}} & = 0 \\\\\n",
    "R_{B_{y}} & = \\frac{F_1(0.5) + F_2(1.5)}{1} = 550 N \\\\\n",
    "R_{A_{y}} & = F_1 + F_2 - R_{B_{y}} = -50 N\n",
    "\\end{split}\n",
    "\\end{equation}$$\n",
    "\n",
    "## <u>Librerías para resolver los sistemas de ecuaciones</u>\n",
    "\n",
    "1. [`numpy.linalg.solve`](https://numpy.org/doc/stable/reference/generated/numpy.linalg.solve.html#numpy.linalg.solve)\n",
    "2. [`numpy.linalg.det`](https://numpy.org/doc/stable/reference/generated/numpy.linalg.det.html#numpy.linalg.det)`\n",
    "3. [`scipy.optimize.fsolve`](https://docs.scipy.org/doc/scipy/reference/generated/scipy.optimize.fsolve.html)\n",
    "4. [`sympy.solve`](https://docs.sympy.org/latest/modules/solvers/solvers.html)\n",
    "\n",
    "## Importar librerías:\n",
    "\n",
    "Para importar las librerías se utilizan las siguientes líneas de código:\n",
    "\n",
    "``` Python \n",
    "import numpy as np\n",
    "from numpy import linalg \n",
    "from scipy import optimize as opt\n",
    "import sympy\n",
    "from sympy import solve\n",
    " ```"
   ]
  },
  {
   "cell_type": "code",
   "execution_count": 70,
   "metadata": {},
   "outputs": [],
   "source": [
    "import numpy as np\n",
    "from numpy import linalg \n",
    "from scipy import optimize as opt\n",
    "import sympy\n",
    "from sympy import solve"
   ]
  },
  {
   "cell_type": "code",
   "execution_count": 59,
   "metadata": {},
   "outputs": [],
   "source": [
    "# Constantes del problema\n",
    "\n",
    "# Fuerzas\n",
    "F_1 = 200         # [N]\n",
    "F_2 = 300         # [N]\n",
    "\n",
    "# Distancias \n",
    "x = 0.5           # [m]\n",
    "\n",
    "# Matriz de coeficientes\n",
    "A = np.array([[1, 0, 0],\n",
    "              [0, 1, 1],\n",
    "              [0, 0, 1]])\n",
    "\n",
    "# Vector de términos independientes\n",
    "B = np.array([0, \n",
    "              F_1 + F_2, \n",
    "              F_1 * x + F_2 * 3*x])"
   ]
  },
  {
   "cell_type": "code",
   "execution_count": 60,
   "metadata": {},
   "outputs": [
    {
     "name": "stdout",
     "output_type": "stream",
     "text": [
      "La solución de la componente x de A es: 0.0 N\n",
      "La solución de la componente y de A es: -50.0 N\n",
      "La solución de la componente y de B es: 550.0 N\n"
     ]
    }
   ],
   "source": [
    "# ---------------- linalg.inv ^ linalg.dot ---------------- #\n",
    "\n",
    "# 1. Inversa de la matriz\n",
    "invA = linalg.inv(A)\n",
    "\n",
    "# 2. x = [A]^{-1}[B] Solución del sistema\n",
    "sol = np.dot(invA, B)\n",
    "\n",
    "print(\"La solución de la componente x de A es: {} N\".format(sol[0]))\n",
    "print(\"La solución de la componente y de A es: {} N\".format(sol[1]))\n",
    "print(\"La solución de la componente y de B es: {} N\".format(sol[2]))"
   ]
  },
  {
   "cell_type": "code",
   "execution_count": 61,
   "metadata": {},
   "outputs": [
    {
     "name": "stdout",
     "output_type": "stream",
     "text": [
      "La solución de la componente x de A es: 0.0 N\n",
      "La solución de la componente y de A es: -50.0 N\n",
      "La solución de la componente y de B es: 550.0 N\n"
     ]
    }
   ],
   "source": [
    "# ---------------- linalg.solve ---------------- #\n",
    "\n",
    "sol_2 = linalg.solve(A, B)\n",
    "\n",
    "print(\"La solución de la componente x de A es: {} N\".format(sol_2[0]))\n",
    "print(\"La solución de la componente y de A es: {} N\".format(sol_2[1]))\n",
    "print(\"La solución de la componente y de B es: {} N\".format(sol_2[2]))"
   ]
  },
  {
   "cell_type": "code",
   "execution_count": 69,
   "metadata": {
    "scrolled": false
   },
   "outputs": [],
   "source": [
    "# ---------------- optimize ---------------- #\n",
    "\n",
    "# 1. Definir la función \n",
    "\n",
    "def f(z: list) -> np.ndarray:\n",
    "    \"\"\"\n",
    "    Función con las ecuaciones del sistema\n",
    "\n",
    "    Parameters\n",
    "    ----------\n",
    "    z : np.array\n",
    "        Vector con los valores cercanos a la raíz\n",
    "        \n",
    "    Returns\n",
    "    -------\n",
    "    valor : np.ndarray\n",
    "        Solución de las raices\n",
    "\n",
    "    \"\"\"\n",
    "    x1, x2, x3 = z\n",
    "    \n",
    "    return [x1,\n",
    "            x2 + x3 - F_1 - F_2,\n",
    "            x3 - F_1 * x - F_2 * 3*x]\n",
    "\n",
    "\n",
    "# 2. Valores cercanos a las raíz\n",
    "raices = [0, 40, 500]\n",
    "\n",
    "# 3. Solucionar sistema\n",
    "sol_1, sol_2, sol_3 = opt.fsolve(func = f, \n",
    "                                 x0 = raices)"
   ]
  },
  {
   "cell_type": "code",
   "execution_count": 67,
   "metadata": {
    "scrolled": true
   },
   "outputs": [
    {
     "name": "stdout",
     "output_type": "stream",
     "text": [
      "La solución de la componente x de A es: 0.0 N\n",
      "La solución de la componente y de A es: -49.99999999999997 N\n",
      "La solución de la componente y de B es: 550.0 N\n"
     ]
    }
   ],
   "source": [
    "print(\"La solución de la componente x de A es: {} N\".format(sol_1))\n",
    "print(\"La solución de la componente y de A es: {} N\".format(sol_2))\n",
    "print(\"La solución de la componente y de B es: {} N\".format(sol_3))"
   ]
  },
  {
   "cell_type": "code",
   "execution_count": 91,
   "metadata": {},
   "outputs": [
    {
     "name": "stdout",
     "output_type": "stream",
     "text": [
      "La solución de la componente x de A es: 0.0 N\n",
      "La solución de la componente y de A es: -50.0000000000000 N\n",
      "La solución de la componente y de B es: 550.000000000000 N\n"
     ]
    }
   ],
   "source": [
    "# ---------------- sympy.solve ---------------- #\n",
    "\n",
    "# Se definenen las variables, estas son las incognitas\n",
    "R_A_x = sympy.Symbol('R_A_x')\n",
    "R_A_y = sympy.Symbol('R_A_y')\n",
    "R_B_y = sympy.Symbol('R_B_y')\n",
    "\n",
    "# Definir ecuaciones\n",
    "eq1 = sympy.Eq(R_A_x, 0)\n",
    "eq2 = sympy.Eq(R_A_y + R_B_y, F_1 + F_2)\n",
    "eq3 = sympy.Eq(R_B_y, F_1 * x + F_2 * 3*x)\n",
    "\n",
    "# Solucionar sistema de ecuaciones\n",
    "sol = sympy.solve([eq1, eq2, eq3],\n",
    "                  [R_A_x, R_A_y, R_B_y])\n",
    "sol = list(sol.values())\n",
    "\n",
    "print(\"La solución de la componente x de A es: {} N\".format(sol[0]))\n",
    "print(\"La solución de la componente y de A es: {} N\".format(sol[1]))\n",
    "print(\"La solución de la componente y de B es: {} N\".format(sol[2]))"
   ]
  },
  {
   "cell_type": "markdown",
   "metadata": {},
   "source": [
    "Teniendo en cuenta los ejemplos utilizados anteriormente, se evidencia que se encuentran los mismos resultados al analítico. \n",
    "\n",
    "## Parte práctica\n",
    "----\n",
    "Se plantean 3 ejercicios, para cada uno:\n",
    "1. Colocar el sistema de ecuaciones que se va a resolver. Para esto modifique la plantilla que se tiene en cada ejercicio. (De doble click en la matriz)\n",
    "2. Resolver los sistemas de ecuaciones planteados en el literal 1. Como en el primer taller debe realizar *dos* funciones, cada una con una librería distinta que le permita resolver el sistema planteado en el literal anterior. Debe utilizar las dos.\n",
    "\n",
    "``` Python \n",
    "   \n",
    "def solve(parámetros: tipo)-> tipoRetorno:\n",
    "    \"\"\"\n",
    "    Descripción de lo que hace la función\n",
    "\n",
    "    Parameters\n",
    "    ----------\n",
    "    variable : tipo\n",
    "        Descripción\n",
    "        \n",
    "    Returns\n",
    "    -------\n",
    "    variable : tipo\n",
    "        Descripción\n",
    "    \"\"\"\n",
    "    \n",
    "    métodos\n",
    "    \n",
    "    return solucion\n",
    "```"
   ]
  },
  {
   "cell_type": "code",
   "execution_count": null,
   "metadata": {},
   "outputs": [],
   "source": [
    "# Espacio definición de funciones de los métodos\n"
   ]
  },
  {
   "cell_type": "markdown",
   "metadata": {},
   "source": [
    "### Ejercicio 1\n",
    "Determine la tensión necesaria en los cables BA y BC para sostener el cilindro de 60 kg que se muestra la figura\n",
    "\n",
    "<img src=\"./img/ejercicio1.jpg\" width='400' height='400'/>\n"
   ]
  },
  {
   "cell_type": "markdown",
   "metadata": {},
   "source": [
    "El sistema de ecuaciones es el siguiente:\n",
    "\n",
    "$$\n",
    "\\begin{bmatrix}  %Vector de Coeficientes\n",
    "\t1 & 0 & 0\\\\\n",
    "\t0 & 1 & 1\\\\\n",
    "\t0 & 0 & 1\\\\\n",
    "\\end{bmatrix} \n",
    "\\begin{Bmatrix} %Vector de incognitas\n",
    "\tR_{A_{x}} \\\\\n",
    "\tR_{A_{y}} \\\\\n",
    "    R_{B_{y}} \\\\\n",
    "\\end{Bmatrix} = \n",
    "\\begin{Bmatrix} %Vector de términos independentes\n",
    "\t0 \\\\\n",
    "\tF_1 + F_2 \\\\\n",
    "\tF_1(0.5) + F_2(1.5)\n",
    "\\end{Bmatrix} \n",
    "$$\n"
   ]
  },
  {
   "cell_type": "code",
   "execution_count": 21,
   "metadata": {},
   "outputs": [],
   "source": [
    "# Código Ejercicio 1"
   ]
  },
  {
   "cell_type": "markdown",
   "metadata": {},
   "source": [
    "### Ejercicio 2\n",
    "\n",
    "Determine la magnitud de las fuerzas A y B. \n",
    "\n",
    "<img src=\"./img/ejercicio3.jpg\" width='400' height='400'/>\n",
    "\n"
   ]
  },
  {
   "cell_type": "markdown",
   "metadata": {},
   "source": [
    "El sistema de ecuaciones es el siguiente:\n",
    "\n",
    "$$\n",
    "\\begin{bmatrix}  %Vector de Coeficientes\n",
    "\t1 & 0 & 0\\\\\n",
    "\t0 & 1 & 1\\\\\n",
    "\t0 & 0 & 1\\\\\n",
    "\\end{bmatrix} \n",
    "\\begin{Bmatrix} %Vector de incognitas\n",
    "\tR_{A_{x}} \\\\\n",
    "\tR_{A_{y}} \\\\\n",
    "    R_{B_{y}} \\\\\n",
    "\\end{Bmatrix} = \n",
    "\\begin{Bmatrix} %Vector de términos independentes\n",
    "\t0 \\\\\n",
    "\tF_1 + F_2 \\\\\n",
    "\tF_1(0.5) + F_2(1.5)\n",
    "\\end{Bmatrix} \n",
    "$$"
   ]
  },
  {
   "cell_type": "code",
   "execution_count": null,
   "metadata": {},
   "outputs": [],
   "source": [
    "# Código Ejercicio 2"
   ]
  },
  {
   "cell_type": "markdown",
   "metadata": {},
   "source": [
    "### Ejercicio 3\n",
    "Encuentre las fuerzas en cada uno de los nodos.\n",
    "\n",
    "<img src=\"./img/ejercicio2.jpg\" width='400' height='400'/>\n"
   ]
  },
  {
   "cell_type": "markdown",
   "metadata": {},
   "source": [
    "El sistema de ecuaciones es el siguiente:\n",
    "\n",
    "$$\n",
    "\\begin{bmatrix}  %Vector de Coeficientes\n",
    "\t1 & 0 & 0\\\\\n",
    "\t0 & 1 & 1\\\\\n",
    "\t0 & 0 & 1\\\\\n",
    "\\end{bmatrix} \n",
    "\\begin{Bmatrix} %Vector de incognitas\n",
    "\tR_{A_{x}} \\\\\n",
    "\tR_{A_{y}} \\\\\n",
    "    R_{B_{y}} \\\\\n",
    "\\end{Bmatrix} = \n",
    "\\begin{Bmatrix} %Vector de términos independentes\n",
    "\t0 \\\\\n",
    "\tF_1 + F_2 \\\\\n",
    "\tF_1(0.5) + F_2(1.5)\n",
    "\\end{Bmatrix} \n",
    "$$"
   ]
  },
  {
   "cell_type": "code",
   "execution_count": 24,
   "metadata": {},
   "outputs": [],
   "source": [
    "# Código Ejercicio 1"
   ]
  }
 ],
 "metadata": {
  "kernelspec": {
   "display_name": "Python 3 (ipykernel)",
   "language": "python",
   "name": "python3"
  },
  "language_info": {
   "codemirror_mode": {
    "name": "ipython",
    "version": 3
   },
   "file_extension": ".py",
   "mimetype": "text/x-python",
   "name": "python",
   "nbconvert_exporter": "python",
   "pygments_lexer": "ipython3",
   "version": "3.9.12"
  }
 },
 "nbformat": 4,
 "nbformat_minor": 2
}
