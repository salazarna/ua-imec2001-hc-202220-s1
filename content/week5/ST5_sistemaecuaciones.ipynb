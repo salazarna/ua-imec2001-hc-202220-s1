{
 "cells": [
  {
   "cell_type": "markdown",
   "metadata": {},
   "source": [
    "## IMEC2201 Herramientas Computacionales \n",
    "## Taller Semana 5: Sistemas de Ecuaciones\n",
    "### Fecha Límite Entrega (Bloque Neón): <font color=\"#FF5733\">15:29h de Noviembre 17, 2022</font>\n",
    "\n",
    "Universidad de los Andes — Noviembre 10, 2022.\n",
    "___\n",
    "### <u>Tener en Cuenta</u>\n",
    "- La entrega del taller es por Bloque Neon y se envía el archivo en formato de Jupyter Notebook (extensión '.ipynb').\n",
    "- El nombre del archivo debe ser: `T5_ApellidosE1_ApellidosE2`Ej:T5_SalazarPeña_VargasTorres\n",
    "- En la casilla anterior a esta coloque su nombre o los nombres (Máximo 2 personas).\n",
    "- La solución solo la envía uno de los integrantes del grupo.\n",
    "___\n",
    "# Semana 5: Sistemas de Ecuaciones Lineales\n",
    "\n",
    "Los sistemas de ecuaciones lineales son frecuentes en problemas de ingeniería, los ejemplos más comunes son en circuitos electronicos y estática. En ingeniería mecánica, se encuentran en diferentes problemas como resistencias térmicas y ecuaciones de equilibrio de cuerpos y partículas estáticas. Algunos de los términos y operaciones que se deben recordar de Algebra lineal son los siguientes:\n",
    "\n",
    "<b>Matriz Simétrica </b>\n",
    "$$[A] = [A]^T \\rightarrow a_{ij}=a_{ji}$$\n",
    "\n",
    "<b>Suma de Matrices </b>\n",
    "\n",
    "$[A] + [B] = [B] + [A] \\rightarrow $ Conmutativa\n",
    "\n",
    "$([A]+[B])+[C]=[A]+([B]+[C]) \\rightarrow $ Asociativa\n",
    "\n",
    "<b>Matríz Identidad [3x3]</b>\n",
    "\n",
    "$$[A]^{-1}[A] = [A][A]^{-1} = \\begin{bmatrix}\n",
    "\t1 & 0 & 0\\\\\n",
    "\t0 & 1 & 0\\\\\n",
    "\t0 & 0 & 1\\\\\n",
    "\\end{bmatrix} $$\n",
    "\n",
    "<b>Multiplicación </b>\n",
    "\n",
    "$([A][B])[C] = [A]([B][C]) \\rightarrow $ Asociativa\n",
    "\n",
    "$[A]([B]+[C]) = [A][B] + [A][C] \\rightarrow $ Distributiva\n",
    "\n",
    "$[A][B] \\neq [B][A] \\rightarrow $ No es Conmutativa\n",
    "\n",
    "Teniendo en cuenta lo anterior, se tiene que los sistemas de ecuaciones tienen la estructura $[A]{x} = {B}$ donde A es la matriz de los coeficientes o valores conocidos, x las el vector columna de las incognitas y B el vector columna de las constantes o de terminos independientes. Su solución está dada por ${x} = [A]^{-1}{B}$, se tiene que hay  una única solución cuando el determinante es diferente de 0. Otros métodos para solucionar estos sistemas son: la eliminación por Gauss simple, sustitución, la regla del Crammer, entre otros.\n",
    "\n",
    "Teniendo en cuenta lo anterior se tiene el siguiente ejercicio de estática con el siguiente sistemas de ecuaciones (Intente generarlo).\n",
    "\n",
    "<img src=\"./img/Ejercicio_1.png\" width='300' height='200'/>\n",
    "\n",
    "$ F_1 = 200 N $\n",
    "\n",
    "$ F_2 = 300 N $\n",
    "\n",
    "$$ \\begin{bmatrix}\n",
    "\t1 & 0 & 0\\\\\n",
    "\t0 & 1 & 1\\\\\n",
    "\t0 & 0 & 1\\\\\n",
    "\\end{bmatrix} \n",
    "\\begin{Bmatrix} %Vector de términos independentes\n",
    "\tR_{A_{x}} \\\\\n",
    "\tR_{A_{y}} \\\\\n",
    "    R_{B_{y}} \\\\\n",
    "\\end{Bmatrix} = \n",
    "\\begin{Bmatrix} %Vector de términos independentes\n",
    "\t0 \\\\\n",
    "\tF_1 + F_2 \\\\\n",
    "\tF_1(0.5) + F_2(1.5)\n",
    "\\end{Bmatrix} $$\n",
    "\n",
    "Solucionando el sistema se tiene que:\n",
    "\n",
    "$$\\begin{equation} \\label{eq1}\n",
    "\\begin{split}\n",
    "R_{A_{x}} & = 0 \\\\\n",
    "R_{B_{y}} & = \\frac{F_1(0.5) + F_2(1.5)}{1} = 550 N \\\\\n",
    "R_{A_{y}} & = F_1 + F_2 - R_{B_{y}} = -50 N\n",
    "\\end{split}\n",
    "\\end{equation}$$\n",
    "\n",
    "## <u>Librerías para resolver los sistemas de ecuaciones</u>\n",
    "\n",
    "1. [`numpy.linalg.solve`](https://numpy.org/doc/stable/reference/generated/numpy.linalg.solve.html#numpy.linalg.solve)\n",
    "2. [`numpy.linalg.det`](https://numpy.org/doc/stable/reference/generated/numpy.linalg.det.html#numpy.linalg.det)`\n",
    "3. [`scipy.optimize.fsolve`](https://docs.scipy.org/doc/scipy/reference/generated/scipy.optimize.fsolve.html)\n",
    "4. [`sympy.solve`](https://docs.sympy.org/latest/modules/solvers/solvers.html)\n",
    "\n",
    "## Importar librerías:\n",
    "\n",
    "Para importar las librerías se utilizan las siguientes líneas de código:\n",
    "\n",
    "``` Python \n",
    "import numpy as np\n",
    "from numpy import linalg \n",
    "from scipy import optimize as opt\n",
    "import sympy\n",
    "from sympy import solve\n",
    " ```"
   ]
  },
  {
   "cell_type": "code",
   "execution_count": null,
   "metadata": {},
   "outputs": [],
   "source": [
    "import numpy as np\n",
    "from numpy import linalg \n",
    "from scipy import optimize as opt\n",
    "import sympy\n",
    "from sympy import solve"
   ]
  },
  {
   "cell_type": "code",
   "execution_count": null,
   "metadata": {},
   "outputs": [],
   "source": [
    "# Constantes del problema\n",
    "\n",
    "# Fuerzas\n",
    "F_1 = 200         # [N]\n",
    "F_2 = 300         # [N]\n",
    "\n",
    "# Distancias \n",
    "x = 0.5           # [m]\n",
    "\n",
    "# Matriz de coeficientes\n",
    "A = np.array([[1, 0, 0],\n",
    "              [0, 1, 1],\n",
    "              [0, 0, 1]])\n",
    "\n",
    "# Vector de términos independientes\n",
    "B = np.array([0, \n",
    "              F_1 + F_2, \n",
    "              F_1 * x + F_2 * 3*x])"
   ]
  },
  {
   "cell_type": "code",
   "execution_count": null,
   "metadata": {},
   "outputs": [],
   "source": [
    "# ---------------- linalg.inv ^ linalg.dot ---------------- #\n",
    "\n",
    "# 1. Inversa de la matriz\n",
    "invA = linalg.inv(A)\n",
    "\n",
    "# 2. x = [A]^{-1}[B] Solución del sistema\n",
    "sol = np.dot(invA, B)\n",
    "\n",
    "print(\"La solución de la componente x de A es: {} N\".format(sol[0]))\n",
    "print(\"La solución de la componente y de A es: {} N\".format(sol[1]))\n",
    "print(\"La solución de la componente y de B es: {} N\".format(sol[2]))"
   ]
  },
  {
   "cell_type": "code",
   "execution_count": null,
   "metadata": {},
   "outputs": [],
   "source": [
    "# ---------------- linalg.solve ---------------- #\n",
    "\n",
    "sol_2 = linalg.solve(A, B)\n",
    "\n",
    "print(\"La solución de la componente x de A es: {} N\".format(sol_2[0]))\n",
    "print(\"La solución de la componente y de A es: {} N\".format(sol_2[1]))\n",
    "print(\"La solución de la componente y de B es: {} N\".format(sol_2[2]))"
   ]
  },
  {
   "cell_type": "code",
   "execution_count": null,
   "metadata": {
    "scrolled": false
   },
   "outputs": [],
   "source": [
    "# ---------------- optimize ---------------- #\n",
    "\n",
    "# 1. Definir la función \n",
    "\n",
    "def f(z: list) -> np.ndarray:\n",
    "    \"\"\"\n",
    "    Función con las ecuaciones del sistema\n",
    "\n",
    "    Parameters\n",
    "    ----------\n",
    "    z : np.array\n",
    "        Vector con los valores cercanos a la raíz\n",
    "        \n",
    "    Returns\n",
    "    -------\n",
    "    valor : np.ndarray\n",
    "        Solución de las raices\n",
    "\n",
    "    \"\"\"\n",
    "    x1, x2, x3 = z\n",
    "    \n",
    "    return [x1,\n",
    "            x2 + x3 - F_1 - F_2,\n",
    "            x3 - F_1 * x - F_2 * 3*x]\n",
    "\n",
    "\n",
    "# 2. Valores cercanos a las raíz\n",
    "raices = [0, 40, 500]\n",
    "\n",
    "# 3. Solucionar sistema\n",
    "sol_1, sol_2, sol_3 = opt.fsolve(func = f, \n",
    "                                 x0 = raices)"
   ]
  },
  {
   "cell_type": "code",
   "execution_count": null,
   "metadata": {
    "scrolled": true
   },
   "outputs": [],
   "source": [
    "print(\"La solución de la componente x de A es: {} N\".format(sol_1))\n",
    "print(\"La solución de la componente y de A es: {} N\".format(sol_2))\n",
    "print(\"La solución de la componente y de B es: {} N\".format(sol_3))"
   ]
  },
  {
   "cell_type": "code",
   "execution_count": null,
   "metadata": {},
   "outputs": [],
   "source": [
    "# ---------------- sympy.solve ---------------- #\n",
    "\n",
    "# Se definenen las variables, estas son las incognitas\n",
    "R_A_x = sympy.Symbol('R_A_x')\n",
    "R_A_y = sympy.Symbol('R_A_y')\n",
    "R_B_y = sympy.Symbol('R_B_y')\n",
    "\n",
    "# Definir ecuaciones\n",
    "eq1 = sympy.Eq(R_A_x, 0)\n",
    "eq2 = sympy.Eq(R_A_y + R_B_y, F_1 + F_2)\n",
    "eq3 = sympy.Eq(R_B_y, F_1 * x + F_2 * 3*x)\n",
    "\n",
    "# Solucionar sistema de ecuaciones\n",
    "sol = sympy.solve([eq1, eq2, eq3],\n",
    "                  [R_A_x, R_A_y, R_B_y])\n",
    "sol = list(sol.values())\n",
    "\n",
    "print(\"La solución de la componente x de A es: {} N\".format(sol[0]))\n",
    "print(\"La solución de la componente y de A es: {} N\".format(sol[1]))\n",
    "print(\"La solución de la componente y de B es: {} N\".format(sol[2]))"
   ]
  },
  {
   "cell_type": "markdown",
   "metadata": {},
   "source": [
    "Teniendo en cuenta los ejemplos utilizados anteriormente, se evidencia que se encuentran los mismos resultados al analítico. \n",
    "\n",
    "## Parte práctica\n",
    "----\n",
    "Se plantean 3 ejercicios, para cada uno:\n",
    "1. Colocar el sistema de ecuaciones que se va a resolver. Para esto modifique la plantilla que se tiene en cada ejercicio. (De doble click en la matriz)\n",
    "2. Resolver los sistemas de ecuaciones planteados en el literal 1. Como en el primer taller debe realizar *dos* funciones, cada una con una librería distinta que le permita resolver el sistema planteado en el literal anterior. Debe utilizar las dos.\n",
    "\n",
    "``` Python \n",
    "   \n",
    "def solve(parámetros: tipo)-> tipoRetorno:\n",
    "    \"\"\"\n",
    "    Descripción de lo que hace la función\n",
    "\n",
    "    Parameters\n",
    "    ----------\n",
    "    variable : tipo\n",
    "        Descripción\n",
    "        \n",
    "    Returns\n",
    "    -------\n",
    "    variable : tipo\n",
    "        Descripción\n",
    "    \"\"\"\n",
    "    \n",
    "    métodos\n",
    "    \n",
    "    return solucion\n",
    "```"
   ]
  },
  {
   "cell_type": "code",
   "execution_count": 1,
   "metadata": {},
   "outputs": [],
   "source": [
    "# Espacio definición de funciones de los métodos\n",
    "import numpy as np\n",
    "from numpy import linalg \n",
    "from scipy import optimize as opt\n",
    "import sympy\n",
    "from sympy import solve\n",
    "\n",
    "# Espacio definición de funciones de los métodos\n",
    "\n",
    "# ---------------- linalg.inv ^ linalg.dot ---------------- #\n",
    "def linalg_ (A: np.array, B: np.array) ->  np.array:\n",
    "    \"\"\"\n",
    "    Método de solución por inversa de la matríz \n",
    "\n",
    "    Parameters\n",
    "    ----------\n",
    "    A : np.array\n",
    "        Matriz de coeficientes.\n",
    "    B : np.array\n",
    "        Matriz de terminos independientes.\n",
    "\n",
    "    Returns\n",
    "    -------\n",
    "    sol : np.array\n",
    "        Solución del sistema de ecuaciones.\n",
    "\n",
    "    \"\"\"\n",
    "    # Inversa de la matriz\n",
    "    invA = linalg.inv(A)\n",
    "\n",
    "    # x = [A]^{-1}[B] Solución del sistema\n",
    "    sol = np.dot(invA, B)\n",
    "    return sol\n",
    "\n",
    "# ---------------- sympy.solve ---------------- #\n",
    "def sympy_ (eq: list, var: list) -> list:\n",
    "    \"\"\"\n",
    "    Solución por solver \n",
    "\n",
    "    Parameters\n",
    "    ----------\n",
    "    eq : list\n",
    "        Ecuaciones del sistema.\n",
    "    var : list\n",
    "        Variables a resolver del sistema.\n",
    "\n",
    "    Returns\n",
    "    -------\n",
    "    list\n",
    "        Solución del sistema de ecuaciones.\n",
    "\n",
    "    \"\"\"\n",
    "    \n",
    "    # Solucionar sistema de ecuaciones\n",
    "    sol = sympy.solve(eq,\n",
    "                      var)\n",
    "    \n",
    "    return sol"
   ]
  },
  {
   "cell_type": "markdown",
   "metadata": {},
   "source": [
    "### Ejercicio 1\n",
    "Determine la tensión necesaria en los cables BA y BC para sostener el cilindro de 60 kg que se muestra la figura\n",
    "\n",
    "<img src=\"./img/ejercicio1.jpg\" width='400' height='400'/>\n"
   ]
  },
  {
   "cell_type": "markdown",
   "metadata": {},
   "source": [
    "El sistema de ecuaciones es el siguiente:\n",
    "\n",
    "$$\n",
    "\\begin{bmatrix}  %Vector de Coeficientes\n",
    "\tCos(45) & \\frac{4}{5} \\\\\n",
    "\tSin(45) & \\frac{3}{5} \\\\\n",
    "\\end{bmatrix} \n",
    "\\begin{Bmatrix} %Vector de incognitas\n",
    "\tT_{C} \\\\\n",
    "\tT_{A} \\\\\n",
    "\\end{Bmatrix} = \n",
    "\\begin{Bmatrix} %Vector de términos independentes\n",
    "\t0 \\\\\n",
    "\t60\\times 9.8 \\\n",
    "\\end{Bmatrix} \n",
    "$$\n"
   ]
  },
  {
   "cell_type": "code",
   "execution_count": 2,
   "metadata": {},
   "outputs": [],
   "source": [
    "# Código Ejercicio 1\n",
    "\n",
    "# Constantes\n",
    "W = 60*9.8\n",
    "\n",
    "# Matriz de coeficientes\n",
    "A = np.array([[np.cos(np.radians(45)), -4/5],\n",
    "              [np.sin(np.radians(45)), 3/5]])\n",
    "\n",
    "# Vector de términos independientes \n",
    "B = np.array([0, \n",
    "              W])"
   ]
  },
  {
   "cell_type": "code",
   "execution_count": 3,
   "metadata": {},
   "outputs": [
    {
     "name": "stdout",
     "output_type": "stream",
     "text": [
      "La solución de T_C es: 475.17575695735997 N\n",
      "La solución de T_A es: 420.0 N\n"
     ]
    }
   ],
   "source": [
    "# Solución al sistema \n",
    "sol = linalg_(A, B)\n",
    "\n",
    "print(\"La solución de T_C es: {} N\".format(sol[0]))\n",
    "print(\"La solución de T_A es: {} N\".format(sol[1]))"
   ]
  },
  {
   "cell_type": "markdown",
   "metadata": {},
   "source": [
    "### Ejercicio 2\n",
    "\n",
    "Determine la magnitud de las fuerzas A y B. \n",
    "\n",
    "<img src=\"./img/ejercicio3.jpg\" width='400' height='400'/>\n",
    "\n"
   ]
  },
  {
   "cell_type": "markdown",
   "metadata": {},
   "source": [
    "El sistema de ecuaciones es el siguiente:\n",
    "\n",
    "$$\n",
    "\\begin{bmatrix}  %Vector de Coeficientes\n",
    "\t0 & 0 & 1\\\\\n",
    "\t1 & 1 & 0\\\\\n",
    "\t1 & 0 & 1\\\\\n",
    "\\end{bmatrix} \n",
    "\\begin{Bmatrix} %Vector de incognitas\n",
    "\tR_{A_{y}} \\\\\n",
    "\tR_{B_{y}} \\\\\n",
    "    R_{B_{x}} \\\\\n",
    "\\end{Bmatrix} = \n",
    "\\begin{Bmatrix} %Vector de términos independentes\n",
    "\t600 Cos(45) \\\\\n",
    "\t100 + 200 + 600 Sin(45) \\\\\n",
    "\t\\frac{1}{7}(2(100) + 5(600 Sin(45)) - 0.2(600 Cos(45)))\n",
    "\\end{Bmatrix} \n",
    "$$"
   ]
  },
  {
   "cell_type": "code",
   "execution_count": 4,
   "metadata": {},
   "outputs": [
    {
     "data": {
      "text/plain": [
       "array([[0, 0, 1],\n",
       "       [1, 1, 0],\n",
       "       [1, 0, 0]])"
      ]
     },
     "execution_count": 4,
     "metadata": {},
     "output_type": "execute_result"
    }
   ],
   "source": [
    "# Código Ejercicio 2\n",
    "\n",
    "# Fuerzas \n",
    "F_1_x = 600*np.cos(np.radians(45))\n",
    "F_1_y = 600*np.sin(np.radians(45))\n",
    "F_2 = 100\n",
    "F_3 = 200\n",
    "\n",
    "# Matriz de coeficientes\n",
    "A = np.array([[0, 0, 1],\n",
    "              [1, 1, 0],\n",
    "              [1, 0, 0]])\n",
    "\n",
    "# Vector de términos independientes \n",
    "B = np.array([F_1_x,\n",
    "              F_2 + F_3 + F_1_y,\n",
    "              1/7*(F_2*2 + F_1_y*5 - F_1_x*0.2)])\n",
    "A"
   ]
  },
  {
   "cell_type": "code",
   "execution_count": 5,
   "metadata": {},
   "outputs": [
    {
     "name": "stdout",
     "output_type": "stream",
     "text": [
      "La solución de A_y es: 319.4953614024653 N\n",
      "La solución de la componente y de B es: 404.76870730946325 N\n",
      "La solución de la componente x de B es: 424.26406871192853 N\n"
     ]
    }
   ],
   "source": [
    "# Solución al sistema \n",
    "sol = linalg_(A, B)\n",
    "\n",
    "print(\"La solución de A_y es: {} N\".format(sol[0]))\n",
    "print(\"La solución de la componente y de B es: {} N\".format(sol[1]))\n",
    "print(\"La solución de la componente x de B es: {} N\".format(sol[2]))"
   ]
  },
  {
   "cell_type": "markdown",
   "metadata": {},
   "source": [
    "### Ejercicio 3\n",
    "Encuentre las fuerzas en cada uno de los nodos.\n",
    "\n",
    "<img src=\"./img/ejercicio2.jpg\" width='400' height='400'/>\n"
   ]
  },
  {
   "cell_type": "code",
   "execution_count": 6,
   "metadata": {
    "scrolled": false
   },
   "outputs": [],
   "source": [
    "# Código EjerciciO \n",
    "\n",
    "# Fuerzas\n",
    "F1 = 4\n",
    "F2 = 5\n",
    "F3 = 8\n",
    "F4 = 6\n",
    "\n",
    "# Ángulos\n",
    "theta = np.arctan(3/4)\n",
    "alpha = np.arctan(3/2)\n",
    "rho = np.pi - np.pi/2 - alpha"
   ]
  },
  {
   "cell_type": "markdown",
   "metadata": {},
   "source": [
    "$$\n",
    "\\begin{bmatrix}  %Vector de Coeficientes\n",
    "\t1 & 0 & 0 & 0 & 0\\\\\n",
    "\t0 & 12 & 0 & 0 & 0\\\\\n",
    "    0 & -1 & 3 & 0 & 0\\\\\n",
    "    0 & -6 & 0 & 3 & 0\\\\\n",
    "    0 & 1 & 0 & 0 & -Sin(\\alpha)\\\\\n",
    "\\end{bmatrix} \n",
    "\\begin{Bmatrix} %Vector de incognitas\n",
    "\tR_{A_{x}} \\\\\n",
    "\tR_{A_{y}} \\\\\n",
    "    JK \\\\\n",
    "    CD \\\\\n",
    "    CJ \\\\\n",
    "\\end{Bmatrix} = \n",
    "\\begin{Bmatrix} %Vector de términos independentes\n",
    "\t0 \\\\\n",
    "\tF_1(10) + F2(8) + F(4) + F4(2) \\\\\n",
    "    - F1(2) \\\\\n",
    "    -F2(2) - F1(4) \\\\\n",
    "    F_1 + F_2 \\\\\n",
    "\\end{Bmatrix} \n",
    "$$"
   ]
  },
  {
   "cell_type": "code",
   "execution_count": 7,
   "metadata": {},
   "outputs": [
    {
     "data": {
      "text/plain": [
       "{R_A_x: 0.0,\n",
       " R_A_y: 10.3333333333333,\n",
       " JK: 0.777777777777778,\n",
       " CD: 12.0000000000000,\n",
       " CJ: 1.60246723353955}"
      ]
     },
     "execution_count": 7,
     "metadata": {},
     "output_type": "execute_result"
    }
   ],
   "source": [
    "# Método de secciones \n",
    "\n",
    "# Se definenen las variables, estas son las incognitas\n",
    "R_A_x = sympy.Symbol('R_A_x')\n",
    "R_A_y = sympy.Symbol('R_A_y')\n",
    "JK = sympy.Symbol('JK')\n",
    "CD = sympy.Symbol('CD')\n",
    "CJ = sympy.Symbol('CJ')\n",
    "\n",
    "# Definir ecuaciones\n",
    "eq1 = sympy.Eq(R_A_x, 0)\n",
    "eq2 = sympy.Eq(12*R_A_y, (F1*10 + F2*8 + F3*4 + F4*2))\n",
    "eq3 = sympy.Eq(JK*3 - R_A_y, - F1*2)\n",
    "eq4 = sympy.Eq(CD*3 - R_A_y*6, -F2*2 - F1*4)\n",
    "eq5 = sympy.Eq(R_A_y - CJ*np.sin(alpha), F1 + F2)\n",
    "\n",
    "# Solucionar sistema de ecuaciones\n",
    "sol = sympy.solve([eq1, eq2, eq3, eq4, eq5],\n",
    "                  [R_A_x, R_A_y, JK, CD, CJ])\n",
    "\n",
    "sol1 = np.array(list(sol.values()))\n",
    "\n",
    "sol"
   ]
  },
  {
   "cell_type": "markdown",
   "metadata": {},
   "source": [
    "$$\n",
    "\\begin{bmatrix}  %Vector de Coeficientes\n",
    "\t12 & 0 & 0 & 0 \\\\\n",
    "\t4 & -3 & 0 & 0 \\\\\n",
    "    0 & 0 & 1 & 0 \\\\\n",
    "    2 & 0 & 0 & \\frac{3}{5}(2) \\\\\n",
    "\\end{bmatrix} \n",
    "\\begin{Bmatrix} %Vector de incognitas\n",
    "\tR_{G_{y}} \\\\\n",
    "\tEF \\\\\n",
    "    FI \\\\\n",
    "    HI \\\\\n",
    "\\end{Bmatrix} = \n",
    "\\begin{Bmatrix} %Vector de términos independentes\n",
    "\tF_1(2) + F_2(4) + F_3(8) + F4(10) \\\\\n",
    "\tF_4(2) \\\\\n",
    "    F_4(2) \\\\\n",
    "    0) \\\\\n",
    "\\end{Bmatrix} \n",
    "$$"
   ]
  },
  {
   "cell_type": "code",
   "execution_count": 8,
   "metadata": {},
   "outputs": [
    {
     "data": {
      "text/plain": [
       "{R_G_y: 12.6666666666667,\n",
       " EF: 12.8888888888889,\n",
       " HI: 21.1111111111111,\n",
       " FI: 7.21110255092797}"
      ]
     },
     "execution_count": 8,
     "metadata": {},
     "output_type": "execute_result"
    }
   ],
   "source": [
    "# Método de secciones \n",
    "\n",
    "# Se definenen las variables, estas son las incognitas\n",
    "R_G_y = sympy.Symbol('R_G_y')\n",
    "EF = sympy.Symbol('EF')\n",
    "FI = sympy.Symbol('FI')\n",
    "HI = sympy.Symbol('HI')\n",
    "\n",
    "# Definir ecuaciones\n",
    "eq6 = sympy.Eq(12*R_G_y, F1*2 + F2*4 + F3*8 + F4*10)\n",
    "eq7 = sympy.Eq(-3*EF + 4*R_G_y, F4*2)\n",
    "eq8 = sympy.Eq(FI*np.sin(alpha)*2, F4*2)\n",
    "eq9 = sympy.Eq(-HI*(3/5)*2 + R_G_y*2, 0)\n",
    "\n",
    "# Solucionar sistema de ecuaciones\n",
    "sol = sympy.solve([eq6, eq7, eq8, eq9],\n",
    "                  [R_G_y, EF, FI, HI])\n",
    "\n",
    "sol2 = np.array(list(sol.values()))\n",
    "\n",
    "sol"
   ]
  },
  {
   "cell_type": "markdown",
   "metadata": {},
   "source": [
    "$$\n",
    "\\begin{bmatrix}  %Vector de Coeficientes\n",
    "\t3 & 0 & 0 \\\\\n",
    "\t0 & Sin(\\alpha) & 0 \\\\\n",
    "    0 & 0 & \\frac{3}{5}(2) \\\\\n",
    "\\end{bmatrix} \n",
    "\\begin{Bmatrix} %Vector de incognitas\n",
    "\tBC \\\\\n",
    "\tBK \\\\\n",
    "    LK \\\\\n",
    "\\end{Bmatrix} = \n",
    "\\begin{Bmatrix} %Vector de términos independentes\n",
    "\t-F_1(2) + R_{A_{y}}(4) \\\\\n",
    "\tF_1(2) \\\\\n",
    "    R_{A_{y}}(4) \\\\\n",
    "\\end{Bmatrix} \n",
    "$$"
   ]
  },
  {
   "cell_type": "code",
   "execution_count": 9,
   "metadata": {},
   "outputs": [
    {
     "data": {
      "text/plain": [
       "{BC: 11.1111111111111, BK: 9.61480340123730, LK: 17.2222222222222}"
      ]
     },
     "execution_count": 9,
     "metadata": {},
     "output_type": "execute_result"
    }
   ],
   "source": [
    "# Método de secciones \n",
    "\n",
    "# Se definenen las variables, estas son las incognitas\n",
    "BC = sympy.Symbol('BC')\n",
    "BK = sympy.Symbol('BK')\n",
    "LK = sympy.Symbol('LK')\n",
    "\n",
    "# Definir ecuaciones\n",
    "eq10 = sympy.Eq(BC*3 - sol1[1]*4, -F1*2)\n",
    "eq11 = sympy.Eq(BK*np.sin(alpha) ,F1*2)\n",
    "eq12 = sympy.Eq(sol1[1]*2 - LK*(3/5)*2, 0)\n",
    "\n",
    "# Solucionar sistema de ecuaciones\n",
    "sol = sympy.solve([eq10, eq11, eq12],\n",
    "                  [BC, BK, LK])\n",
    "\n",
    "sol3 = np.array(list(sol.values()))\n",
    "\n",
    "sol"
   ]
  },
  {
   "cell_type": "markdown",
   "metadata": {},
   "source": [
    "$$\n",
    "\\begin{bmatrix}  %Vector de Coeficientes\n",
    "\t3 & 0 & 0 \\\\\n",
    "\t0 & -3 & 0 \\\\\n",
    "    0 & 0 & Sin(\\alpha) \\\\\n",
    "\\end{bmatrix} \n",
    "\\begin{Bmatrix} %Vector de incognitas\n",
    "\tJI\\\\\n",
    "\tED \\\\\n",
    "    EJ \\\\\n",
    "\\end{Bmatrix} = \n",
    "\\begin{Bmatrix} %Vector de términos independentes\n",
    "\tF_4(4) - R_{G_{y}} \\\\\n",
    "\t-R_{G_{y}} (4) + F3(2) + F4(4) \\\\\n",
    "    - R_{G_{y}}(4) + F3 + F4\\\\\n",
    "\\end{Bmatrix} \n",
    "$$"
   ]
  },
  {
   "cell_type": "code",
   "execution_count": 10,
   "metadata": {},
   "outputs": [
    {
     "data": {
      "text/plain": [
       "{JI: -12.8888888888889, ED: -9.11111111111111, EJ: 1.60246723353955}"
      ]
     },
     "execution_count": 10,
     "metadata": {},
     "output_type": "execute_result"
    }
   ],
   "source": [
    "# Método de secciones \n",
    "\n",
    "# Se definenen las variables, estas son las incognitas\n",
    "JI = sympy.Symbol('JI')\n",
    "ED = sympy.Symbol('ED')\n",
    "EJ = sympy.Symbol('EJ')\n",
    "\n",
    "# Definir ecuaciones\n",
    "eq13 = sympy.Eq(sol2[0]*4 + JI*3, F4*2)\n",
    "eq14 = sympy.Eq(-ED*3 + sol2[0], F3*2 + F4*4)\n",
    "eq15 = sympy.Eq(EJ*np.sin(alpha) + sol2[0], F3 + F4)\n",
    "\n",
    "# Solucionar sistema de ecuaciones\n",
    "sol = sympy.solve([eq13, eq14, eq15],\n",
    "                  [JI, ED, EJ])\n",
    "\n",
    "sol4 = np.array(list(sol.values()))\n",
    "\n",
    "sol"
   ]
  },
  {
   "cell_type": "markdown",
   "metadata": {},
   "source": [
    "$$\n",
    "\\begin{bmatrix}  %Vector de Coeficientes\n",
    "\t1 & Cos(\\theta) \\\\\n",
    "\t0 & Sin(\\theta) \\\\\n",
    "\\end{bmatrix} \n",
    "\\begin{Bmatrix} %Vector de incognitas\n",
    "\tAB\\\\\n",
    "\tAL \\\\\n",
    "\\end{Bmatrix} = \n",
    "\\begin{Bmatrix} %Vector de términos independentes\n",
    "\t - R_{A_{y}}  \\\\\n",
    "\t - R_{A_{y}}\\\\\n",
    "\\end{Bmatrix} \n",
    "$$"
   ]
  },
  {
   "cell_type": "code",
   "execution_count": 11,
   "metadata": {},
   "outputs": [
    {
     "data": {
      "text/plain": [
       "{AB: 3.44444444444444, AL: -17.2222222222222}"
      ]
     },
     "execution_count": 11,
     "metadata": {},
     "output_type": "execute_result"
    }
   ],
   "source": [
    "# Método de nodos [A]\n",
    "\n",
    "# Se definenen las variables, estas son las incognitas\n",
    "AB = sympy.Symbol('AB')\n",
    "AL = sympy.Symbol('AL')\n",
    "\n",
    "# Definir ecuaciones\n",
    "eq16 = sympy.Eq(sol1[1] + AB + AL*np.cos(theta), 0)\n",
    "eq17 = sympy.Eq(sol1[1] + AL*np.sin(theta), 0)\n",
    "\n",
    "# Solucionar sistema de ecuaciones\n",
    "sol = sympy.solve([eq16, eq17],\n",
    "                  [AB, AL])\n",
    "\n",
    "sol5 = np.array(list(sol.values()))\n",
    "\n",
    "sol"
   ]
  },
  {
   "cell_type": "markdown",
   "metadata": {},
   "source": [
    "$$\n",
    "\\begin{bmatrix}  %Vector de Coeficientes\n",
    "\tcos(\\theta) & 0 & 0 & 0 & 0 & 0 & 0\\\\\n",
    "\t0 & -1 & 0 & 0 & 0 & 0 & 0\\\\\n",
    "    0 & 0 & 1 & 0 & 0 & 0 & 0\\\\\n",
    "    0 & 0 & 0 & 1 & 0 & 0 & 0\\\\\n",
    "    0 & 0 & 0 & 0 & Sin(\\theta) & 0 & 0\\\\\n",
    "    0 & 0 & 0 & 0 & Cos(\\theta) & -1 & 0\\\\\n",
    "    0 & 0 & 0 & 0 & 0 & 0 & 1\\\\\n",
    "\\end{bmatrix} \n",
    "\\begin{Bmatrix} %Vector de incognitas\n",
    "\tLB \\\\\n",
    "\tKC \\\\\n",
    "    DJ \\\\\n",
    "    EI \\\\\n",
    "    GH \\\\\n",
    "    GF \\\\\n",
    "    FH \\\\    \n",
    "\\end{Bmatrix} = \n",
    "\\begin{Bmatrix} %Vector de términos independentes\n",
    "\tLA Sin(\\theta) \\\\\n",
    "    KB Cos(\\rho) + KL sin (\\theta) \\\\\n",
    "    0 \\\\\n",
    "    F_3 - EJ Sin(\\alpha) \\\\\n",
    "    -R_{G_{y}} \\\\\n",
    "    0 \\\\\n",
    "    F_4 -FI Sin(\\alpha) \\\\\t\n",
    "\\end{Bmatrix} \n",
    "$$"
   ]
  },
  {
   "cell_type": "code",
   "execution_count": 12,
   "metadata": {},
   "outputs": [
    {
     "data": {
      "text/plain": [
       "{LB: -17.2222222222222,\n",
       " KC: -18.3333333333333,\n",
       " DJ: 0.0,\n",
       " EI: 6.66666666666667,\n",
       " GH: -21.1111111111111,\n",
       " GF: 16.8888888888889,\n",
       " FH: 0.0}"
      ]
     },
     "execution_count": 12,
     "metadata": {},
     "output_type": "execute_result"
    }
   ],
   "source": [
    "# Con el método de nodos se realiza un sistema de ecuaciones \n",
    "# de las variables restantes \n",
    "\n",
    "# Se definenen las variables, estas son las incognitas\n",
    "LB = sympy.Symbol('LB') \n",
    "KC = sympy.Symbol('KC') \n",
    "DJ = sympy.Symbol('DJ') \n",
    "EI = sympy.Symbol('EI') \n",
    "GH = sympy.Symbol('GH') \n",
    "GF = sympy.Symbol('GF') \n",
    "FH = sympy.Symbol('FH') \n",
    "\n",
    "# Definir ecuaciones\n",
    "eq18 = sympy.Eq(LB*np.cos(theta) - sol5[1]*np.cos(theta), 0)\n",
    "eq19 = sympy.Eq(-KC - sol3[1]*np.cos(rho) - sol3[2]*np.sin(theta), 0)\n",
    "eq20 = sympy.Eq(DJ, 0)\n",
    "eq21 = sympy.Eq(EI + sol4[2]*np.sin(alpha), F3)\n",
    "eq22 = sympy.Eq(sol2[0] + GH*np.sin(theta), 0)\n",
    "eq23 = sympy.Eq(-GF - GH*np.cos(theta), 0)\n",
    "eq24 = sympy.Eq(FH + sol2[3]*np.sin(alpha), F4)\n",
    "\n",
    "# Solucionar sistema de ecuaciones\n",
    "sol = sympy.solve([eq18, eq19, eq20, eq21, eq22, eq23, eq24],\n",
    "                  [LB, KC, DJ, EI, GH, GF, FH])\n",
    "\n",
    "sol6 = np.array(list(sol.values()))\n",
    "\n",
    "sol"
   ]
  },
  {
   "cell_type": "code",
   "execution_count": null,
   "metadata": {},
   "outputs": [],
   "source": []
  }
 ],
 "metadata": {
  "kernelspec": {
   "display_name": "Python 3 (ipykernel)",
   "language": "python",
   "name": "python3"
  },
  "language_info": {
   "codemirror_mode": {
    "name": "ipython",
    "version": 3
   },
   "file_extension": ".py",
   "mimetype": "text/x-python",
   "name": "python",
   "nbconvert_exporter": "python",
   "pygments_lexer": "ipython3",
   "version": "3.9.12"
  }
 },
 "nbformat": 4,
 "nbformat_minor": 2
}
